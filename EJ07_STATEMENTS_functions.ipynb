{
  "cells": [
    {
      "cell_type": "markdown",
      "metadata": {
        "id": "view-in-github",
        "colab_type": "text"
      },
      "source": [
        "<a href=\"https://colab.research.google.com/github/zeyad360/master_itm/blob/main/EJ07_STATEMENTS_functions.ipynb\" target=\"_parent\"><img src=\"https://colab.research.google.com/assets/colab-badge.svg\" alt=\"Open In Colab\"/></a>"
      ]
    },
    {
      "cell_type": "markdown",
      "metadata": {
        "id": "-q6vwskTAdUm"
      },
      "source": [
        "## Working with functions"
      ]
    },
    {
      "cell_type": "markdown",
      "metadata": {
        "id": "2BHgmh9OAdUo"
      },
      "source": [
        "Create a function that receives a list of numeric values (positive and negative) and returns a second list of values greater than zero.\n",
        "with the values greater than zero"
      ]
    },
    {
      "cell_type": "code",
      "execution_count": null,
      "metadata": {
        "colab": {
          "base_uri": "https://localhost:8080/"
        },
        "id": "z1o3pX3qAdUo",
        "outputId": "56444e40-2bc8-4b70-e330-949e757dff46"
      },
      "outputs": [
        {
          "output_type": "execute_result",
          "data": {
            "text/plain": [
              "[1, 2, 3, 4, 5]"
            ]
          },
          "metadata": {},
          "execution_count": 12
        }
      ],
      "source": [
        "list1=[1, -1, 2,3,-3,5,-7,4]\n",
        "\n",
        "list2=[]\n",
        "\n",
        "for val in list1:\n",
        "  if val >= 0:\n",
        "    list2.append(val)\n",
        "list2.sort()\n",
        "(list2)\n"
      ]
    },
    {
      "cell_type": "markdown",
      "metadata": {
        "id": "MeCoMqSvAdUp"
      },
      "source": [
        "Create a function that receives a dictionary like the following:\n",
        "customer = {'cod_customer': 'A100', 'contract_type': 'A', 'invoice': 50}\n",
        "\n",
        "The contract_type field can take the values; 'A', 'B' or 'C' and the invoice is an integer greater than zero.\n",
        "The function must validate that if the contract_type is 'A' the invoice cannot be greater than 50.\n",
        "If the validation is true, return True, otherwise False (contract_type is 'A' and invoice > 50)."
      ]
    },
    {
      "cell_type": "code",
      "execution_count": null,
      "metadata": {
        "id": "uPmwKyKFAdUp"
      },
      "outputs": [],
      "source": [
        "def positive_values(v_lis):\n",
        "  list2=[]\n",
        "  for val in v_lis:\n",
        "    if val >= 0:\n",
        "      list2.append(val)\n",
        "  list2.sort()\n",
        "  return list2\n",
        "\n"
      ]
    },
    {
      "cell_type": "code",
      "source": [
        "list1=[1, 2, -3,-3, -6, 8, 7]\n",
        "positive_values(list1)"
      ],
      "metadata": {
        "colab": {
          "base_uri": "https://localhost:8080/"
        },
        "id": "ELonJsm2Ds_8",
        "outputId": "6b46bce0-73bb-4c45-ac67-edb71282b0c8"
      },
      "execution_count": null,
      "outputs": [
        {
          "output_type": "execute_result",
          "data": {
            "text/plain": [
              "[1, 2, 7, 8]"
            ]
          },
          "metadata": {},
          "execution_count": 25
        }
      ]
    },
    {
      "cell_type": "markdown",
      "metadata": {
        "id": "NwMwoyrmAdUp"
      },
      "source": [
        "Create a function to validate with the above function the following list:\n",
        "customers = [   \n",
        "{'cod_customer': 'A100', 'contract_type': 'A', 'invoice': 51},  \n",
        "{'cod_customer': 'A100', 'contract_type': 'A', 'invoice': 22},  \n",
        "{'cod_customer': 'A100', 'contract_type': 'B', 'invoice': 71},  \n",
        "{'cod_customer': 'A100', 'contract_type': 'C', 'invoice': 51},  \n",
        "{'cod_customer': 'A100', 'contract_type': 'A', 'invoice': 61}  \n",
        "   ]   \n",
        "The result of each validation add it to each dictionary in a field named 'validation'."
      ]
    },
    {
      "cell_type": "code",
      "execution_count": null,
      "metadata": {
        "colab": {
          "base_uri": "https://localhost:8080/"
        },
        "id": "mf-i7GuEAdUq",
        "outputId": "158c1995-1f54-4e35-8366-ccdaf7320ff5"
      },
      "outputs": [
        {
          "output_type": "stream",
          "name": "stdout",
          "text": [
            "[{'cod_customer': 'A100', 'contract_type': 'A', 'invoice': 51, 'validation': False}, {'cod_customer': 'A100', 'contract_type': 'A', 'invoice': 22, 'validation': True}, {'cod_customer': 'A100', 'contract_type': 'B', 'invoice': 71, 'validation': True}, {'cod_customer': 'A100', 'contract_type': 'C', 'invoice': 51, 'validation': True}, {'cod_customer': 'A100', 'contract_type': 'A', 'invoice': 61, 'validation': False}]\n"
          ]
        }
      ],
      "source": [
        "def validate_customer(customer):\n",
        "  if customer['contract_type'] == 'A' and customer['invoice'] > 50:\n",
        "    return False\n",
        "  else:\n",
        "    return True\n",
        "\n",
        "customers = [\n",
        "{'cod_customer': 'A100', 'contract_type': 'A', 'invoice': 51},\n",
        "{'cod_customer': 'A100', 'contract_type': 'A', 'invoice': 22},\n",
        "{'cod_customer': 'A100', 'contract_type': 'B', 'invoice': 71},\n",
        "{'cod_customer': 'A100', 'contract_type': 'C', 'invoice': 51},\n",
        "{'cod_customer': 'A100', 'contract_type': 'A', 'invoice': 61}\n",
        "]\n",
        "\n",
        "for customer in customers:\n",
        "  customer['validation'] = validate_customer(customer)\n",
        "\n",
        "print(customers)\n"
      ]
    }
  ],
  "metadata": {
    "kernelspec": {
      "display_name": "Python 3 (ipykernel)",
      "language": "python",
      "name": "python3"
    },
    "language_info": {
      "codemirror_mode": {
        "name": "ipython",
        "version": 3
      },
      "file_extension": ".py",
      "mimetype": "text/x-python",
      "name": "python",
      "nbconvert_exporter": "python",
      "pygments_lexer": "ipython3",
      "version": "3.10.9"
    },
    "colab": {
      "provenance": [],
      "include_colab_link": true
    }
  },
  "nbformat": 4,
  "nbformat_minor": 0
}