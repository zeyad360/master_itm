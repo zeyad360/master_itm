{
  "cells": [
    {
      "cell_type": "markdown",
      "metadata": {
        "id": "view-in-github",
        "colab_type": "text"
      },
      "source": [
        "<a href=\"https://colab.research.google.com/github/zeyad360/master_itm/blob/main/P11_pandas_1.ipynb\" target=\"_parent\"><img src=\"https://colab.research.google.com/assets/colab-badge.svg\" alt=\"Open In Colab\"/></a>"
      ]
    },
    {
      "cell_type": "markdown",
      "metadata": {
        "id": "LALpsVnPI5sp"
      },
      "source": [
        "# Working with Pandas 1"
      ]
    },
    {
      "cell_type": "markdown",
      "metadata": {
        "id": "CRnJ_ZIuI5sq"
      },
      "source": [
        " - Create dataframe from lists, dictionaries\n",
        " - Read from file\n",
        " - Working with columns\n",
        " - Transformations and dates"
      ]
    },
    {
      "cell_type": "markdown",
      "metadata": {
        "id": "AgTGrjc9I5sq"
      },
      "source": [
        "Import __Pandas__."
      ]
    },
    {
      "cell_type": "code",
      "execution_count": null,
      "metadata": {
        "id": "8TLh7bwsI5sr"
      },
      "outputs": [],
      "source": [
        "import pandas as pd  # pd is the standard abbreviation"
      ]
    },
    {
      "cell_type": "markdown",
      "metadata": {
        "id": "RGUrDU3SI5sr"
      },
      "source": [
        "Moving from a list dictionary to a Pandas dataframe (df)"
      ]
    },
    {
      "cell_type": "code",
      "execution_count": null,
      "metadata": {
        "colab": {
          "base_uri": "https://localhost:8080/"
        },
        "id": "hen7azWsI5sr",
        "outputId": "37269f5d-b3d4-4498-cb00-59a817991a8c"
      },
      "outputs": [
        {
          "output_type": "execute_result",
          "data": {
            "text/plain": [
              "dict"
            ]
          },
          "metadata": {},
          "execution_count": 2
        }
      ],
      "source": [
        "cus = {'name': ['Jorge', 'Luis', 'Pilar', 'Ana'],\n",
        "            'age': [33, 25, 44, 27],\n",
        "            'city': ['Valladolid', 'Madrid', 'Madrid', 'Cuenca']\n",
        "            }\n",
        "type(cus)"
      ]
    },
    {
      "cell_type": "code",
      "execution_count": null,
      "metadata": {
        "colab": {
          "base_uri": "https://localhost:8080/",
          "height": 192
        },
        "id": "Ix832o9hI5ss",
        "outputId": "d5666f75-2a79-45df-def6-ec9afc75baed"
      },
      "outputs": [
        {
          "output_type": "stream",
          "name": "stdout",
          "text": [
            "<class 'pandas.core.frame.DataFrame'>\n"
          ]
        },
        {
          "output_type": "execute_result",
          "data": {
            "text/plain": [
              "    name  age        city\n",
              "0  Jorge   33  Valladolid\n",
              "1   Luis   25      Madrid\n",
              "2  Pilar   44      Madrid\n",
              "3    Ana   27      Cuenca"
            ],
            "text/html": [
              "\n",
              "  <div id=\"df-de718ce4-297c-4cac-9ed4-589978be0e2a\" class=\"colab-df-container\">\n",
              "    <div>\n",
              "<style scoped>\n",
              "    .dataframe tbody tr th:only-of-type {\n",
              "        vertical-align: middle;\n",
              "    }\n",
              "\n",
              "    .dataframe tbody tr th {\n",
              "        vertical-align: top;\n",
              "    }\n",
              "\n",
              "    .dataframe thead th {\n",
              "        text-align: right;\n",
              "    }\n",
              "</style>\n",
              "<table border=\"1\" class=\"dataframe\">\n",
              "  <thead>\n",
              "    <tr style=\"text-align: right;\">\n",
              "      <th></th>\n",
              "      <th>name</th>\n",
              "      <th>age</th>\n",
              "      <th>city</th>\n",
              "    </tr>\n",
              "  </thead>\n",
              "  <tbody>\n",
              "    <tr>\n",
              "      <th>0</th>\n",
              "      <td>Jorge</td>\n",
              "      <td>33</td>\n",
              "      <td>Valladolid</td>\n",
              "    </tr>\n",
              "    <tr>\n",
              "      <th>1</th>\n",
              "      <td>Luis</td>\n",
              "      <td>25</td>\n",
              "      <td>Madrid</td>\n",
              "    </tr>\n",
              "    <tr>\n",
              "      <th>2</th>\n",
              "      <td>Pilar</td>\n",
              "      <td>44</td>\n",
              "      <td>Madrid</td>\n",
              "    </tr>\n",
              "    <tr>\n",
              "      <th>3</th>\n",
              "      <td>Ana</td>\n",
              "      <td>27</td>\n",
              "      <td>Cuenca</td>\n",
              "    </tr>\n",
              "  </tbody>\n",
              "</table>\n",
              "</div>\n",
              "    <div class=\"colab-df-buttons\">\n",
              "\n",
              "  <div class=\"colab-df-container\">\n",
              "    <button class=\"colab-df-convert\" onclick=\"convertToInteractive('df-de718ce4-297c-4cac-9ed4-589978be0e2a')\"\n",
              "            title=\"Convert this dataframe to an interactive table.\"\n",
              "            style=\"display:none;\">\n",
              "\n",
              "  <svg xmlns=\"http://www.w3.org/2000/svg\" height=\"24px\" viewBox=\"0 -960 960 960\">\n",
              "    <path d=\"M120-120v-720h720v720H120Zm60-500h600v-160H180v160Zm220 220h160v-160H400v160Zm0 220h160v-160H400v160ZM180-400h160v-160H180v160Zm440 0h160v-160H620v160ZM180-180h160v-160H180v160Zm440 0h160v-160H620v160Z\"/>\n",
              "  </svg>\n",
              "    </button>\n",
              "\n",
              "  <style>\n",
              "    .colab-df-container {\n",
              "      display:flex;\n",
              "      gap: 12px;\n",
              "    }\n",
              "\n",
              "    .colab-df-convert {\n",
              "      background-color: #E8F0FE;\n",
              "      border: none;\n",
              "      border-radius: 50%;\n",
              "      cursor: pointer;\n",
              "      display: none;\n",
              "      fill: #1967D2;\n",
              "      height: 32px;\n",
              "      padding: 0 0 0 0;\n",
              "      width: 32px;\n",
              "    }\n",
              "\n",
              "    .colab-df-convert:hover {\n",
              "      background-color: #E2EBFA;\n",
              "      box-shadow: 0px 1px 2px rgba(60, 64, 67, 0.3), 0px 1px 3px 1px rgba(60, 64, 67, 0.15);\n",
              "      fill: #174EA6;\n",
              "    }\n",
              "\n",
              "    .colab-df-buttons div {\n",
              "      margin-bottom: 4px;\n",
              "    }\n",
              "\n",
              "    [theme=dark] .colab-df-convert {\n",
              "      background-color: #3B4455;\n",
              "      fill: #D2E3FC;\n",
              "    }\n",
              "\n",
              "    [theme=dark] .colab-df-convert:hover {\n",
              "      background-color: #434B5C;\n",
              "      box-shadow: 0px 1px 3px 1px rgba(0, 0, 0, 0.15);\n",
              "      filter: drop-shadow(0px 1px 2px rgba(0, 0, 0, 0.3));\n",
              "      fill: #FFFFFF;\n",
              "    }\n",
              "  </style>\n",
              "\n",
              "    <script>\n",
              "      const buttonEl =\n",
              "        document.querySelector('#df-de718ce4-297c-4cac-9ed4-589978be0e2a button.colab-df-convert');\n",
              "      buttonEl.style.display =\n",
              "        google.colab.kernel.accessAllowed ? 'block' : 'none';\n",
              "\n",
              "      async function convertToInteractive(key) {\n",
              "        const element = document.querySelector('#df-de718ce4-297c-4cac-9ed4-589978be0e2a');\n",
              "        const dataTable =\n",
              "          await google.colab.kernel.invokeFunction('convertToInteractive',\n",
              "                                                    [key], {});\n",
              "        if (!dataTable) return;\n",
              "\n",
              "        const docLinkHtml = 'Like what you see? Visit the ' +\n",
              "          '<a target=\"_blank\" href=https://colab.research.google.com/notebooks/data_table.ipynb>data table notebook</a>'\n",
              "          + ' to learn more about interactive tables.';\n",
              "        element.innerHTML = '';\n",
              "        dataTable['output_type'] = 'display_data';\n",
              "        await google.colab.output.renderOutput(dataTable, element);\n",
              "        const docLink = document.createElement('div');\n",
              "        docLink.innerHTML = docLinkHtml;\n",
              "        element.appendChild(docLink);\n",
              "      }\n",
              "    </script>\n",
              "  </div>\n",
              "\n",
              "\n",
              "<div id=\"df-7bc27d34-91a9-4751-9833-a3cb5a62e2f0\">\n",
              "  <button class=\"colab-df-quickchart\" onclick=\"quickchart('df-7bc27d34-91a9-4751-9833-a3cb5a62e2f0')\"\n",
              "            title=\"Suggest charts\"\n",
              "            style=\"display:none;\">\n",
              "\n",
              "<svg xmlns=\"http://www.w3.org/2000/svg\" height=\"24px\"viewBox=\"0 0 24 24\"\n",
              "     width=\"24px\">\n",
              "    <g>\n",
              "        <path d=\"M19 3H5c-1.1 0-2 .9-2 2v14c0 1.1.9 2 2 2h14c1.1 0 2-.9 2-2V5c0-1.1-.9-2-2-2zM9 17H7v-7h2v7zm4 0h-2V7h2v10zm4 0h-2v-4h2v4z\"/>\n",
              "    </g>\n",
              "</svg>\n",
              "  </button>\n",
              "\n",
              "<style>\n",
              "  .colab-df-quickchart {\n",
              "      --bg-color: #E8F0FE;\n",
              "      --fill-color: #1967D2;\n",
              "      --hover-bg-color: #E2EBFA;\n",
              "      --hover-fill-color: #174EA6;\n",
              "      --disabled-fill-color: #AAA;\n",
              "      --disabled-bg-color: #DDD;\n",
              "  }\n",
              "\n",
              "  [theme=dark] .colab-df-quickchart {\n",
              "      --bg-color: #3B4455;\n",
              "      --fill-color: #D2E3FC;\n",
              "      --hover-bg-color: #434B5C;\n",
              "      --hover-fill-color: #FFFFFF;\n",
              "      --disabled-bg-color: #3B4455;\n",
              "      --disabled-fill-color: #666;\n",
              "  }\n",
              "\n",
              "  .colab-df-quickchart {\n",
              "    background-color: var(--bg-color);\n",
              "    border: none;\n",
              "    border-radius: 50%;\n",
              "    cursor: pointer;\n",
              "    display: none;\n",
              "    fill: var(--fill-color);\n",
              "    height: 32px;\n",
              "    padding: 0;\n",
              "    width: 32px;\n",
              "  }\n",
              "\n",
              "  .colab-df-quickchart:hover {\n",
              "    background-color: var(--hover-bg-color);\n",
              "    box-shadow: 0 1px 2px rgba(60, 64, 67, 0.3), 0 1px 3px 1px rgba(60, 64, 67, 0.15);\n",
              "    fill: var(--button-hover-fill-color);\n",
              "  }\n",
              "\n",
              "  .colab-df-quickchart-complete:disabled,\n",
              "  .colab-df-quickchart-complete:disabled:hover {\n",
              "    background-color: var(--disabled-bg-color);\n",
              "    fill: var(--disabled-fill-color);\n",
              "    box-shadow: none;\n",
              "  }\n",
              "\n",
              "  .colab-df-spinner {\n",
              "    border: 2px solid var(--fill-color);\n",
              "    border-color: transparent;\n",
              "    border-bottom-color: var(--fill-color);\n",
              "    animation:\n",
              "      spin 1s steps(1) infinite;\n",
              "  }\n",
              "\n",
              "  @keyframes spin {\n",
              "    0% {\n",
              "      border-color: transparent;\n",
              "      border-bottom-color: var(--fill-color);\n",
              "      border-left-color: var(--fill-color);\n",
              "    }\n",
              "    20% {\n",
              "      border-color: transparent;\n",
              "      border-left-color: var(--fill-color);\n",
              "      border-top-color: var(--fill-color);\n",
              "    }\n",
              "    30% {\n",
              "      border-color: transparent;\n",
              "      border-left-color: var(--fill-color);\n",
              "      border-top-color: var(--fill-color);\n",
              "      border-right-color: var(--fill-color);\n",
              "    }\n",
              "    40% {\n",
              "      border-color: transparent;\n",
              "      border-right-color: var(--fill-color);\n",
              "      border-top-color: var(--fill-color);\n",
              "    }\n",
              "    60% {\n",
              "      border-color: transparent;\n",
              "      border-right-color: var(--fill-color);\n",
              "    }\n",
              "    80% {\n",
              "      border-color: transparent;\n",
              "      border-right-color: var(--fill-color);\n",
              "      border-bottom-color: var(--fill-color);\n",
              "    }\n",
              "    90% {\n",
              "      border-color: transparent;\n",
              "      border-bottom-color: var(--fill-color);\n",
              "    }\n",
              "  }\n",
              "</style>\n",
              "\n",
              "  <script>\n",
              "    async function quickchart(key) {\n",
              "      const quickchartButtonEl =\n",
              "        document.querySelector('#' + key + ' button');\n",
              "      quickchartButtonEl.disabled = true;  // To prevent multiple clicks.\n",
              "      quickchartButtonEl.classList.add('colab-df-spinner');\n",
              "      try {\n",
              "        const charts = await google.colab.kernel.invokeFunction(\n",
              "            'suggestCharts', [key], {});\n",
              "      } catch (error) {\n",
              "        console.error('Error during call to suggestCharts:', error);\n",
              "      }\n",
              "      quickchartButtonEl.classList.remove('colab-df-spinner');\n",
              "      quickchartButtonEl.classList.add('colab-df-quickchart-complete');\n",
              "    }\n",
              "    (() => {\n",
              "      let quickchartButtonEl =\n",
              "        document.querySelector('#df-7bc27d34-91a9-4751-9833-a3cb5a62e2f0 button');\n",
              "      quickchartButtonEl.style.display =\n",
              "        google.colab.kernel.accessAllowed ? 'block' : 'none';\n",
              "    })();\n",
              "  </script>\n",
              "</div>\n",
              "\n",
              "  <div id=\"id_c9bea716-a6f3-4571-aba0-bb091cdf590c\">\n",
              "    <style>\n",
              "      .colab-df-generate {\n",
              "        background-color: #E8F0FE;\n",
              "        border: none;\n",
              "        border-radius: 50%;\n",
              "        cursor: pointer;\n",
              "        display: none;\n",
              "        fill: #1967D2;\n",
              "        height: 32px;\n",
              "        padding: 0 0 0 0;\n",
              "        width: 32px;\n",
              "      }\n",
              "\n",
              "      .colab-df-generate:hover {\n",
              "        background-color: #E2EBFA;\n",
              "        box-shadow: 0px 1px 2px rgba(60, 64, 67, 0.3), 0px 1px 3px 1px rgba(60, 64, 67, 0.15);\n",
              "        fill: #174EA6;\n",
              "      }\n",
              "\n",
              "      [theme=dark] .colab-df-generate {\n",
              "        background-color: #3B4455;\n",
              "        fill: #D2E3FC;\n",
              "      }\n",
              "\n",
              "      [theme=dark] .colab-df-generate:hover {\n",
              "        background-color: #434B5C;\n",
              "        box-shadow: 0px 1px 3px 1px rgba(0, 0, 0, 0.15);\n",
              "        filter: drop-shadow(0px 1px 2px rgba(0, 0, 0, 0.3));\n",
              "        fill: #FFFFFF;\n",
              "      }\n",
              "    </style>\n",
              "    <button class=\"colab-df-generate\" onclick=\"generateWithVariable('df_cus')\"\n",
              "            title=\"Generate code using this dataframe.\"\n",
              "            style=\"display:none;\">\n",
              "\n",
              "  <svg xmlns=\"http://www.w3.org/2000/svg\" height=\"24px\"viewBox=\"0 0 24 24\"\n",
              "       width=\"24px\">\n",
              "    <path d=\"M7,19H8.4L18.45,9,17,7.55,7,17.6ZM5,21V16.75L18.45,3.32a2,2,0,0,1,2.83,0l1.4,1.43a1.91,1.91,0,0,1,.58,1.4,1.91,1.91,0,0,1-.58,1.4L9.25,21ZM18.45,9,17,7.55Zm-12,3A5.31,5.31,0,0,0,4.9,8.1,5.31,5.31,0,0,0,1,6.5,5.31,5.31,0,0,0,4.9,4.9,5.31,5.31,0,0,0,6.5,1,5.31,5.31,0,0,0,8.1,4.9,5.31,5.31,0,0,0,12,6.5,5.46,5.46,0,0,0,6.5,12Z\"/>\n",
              "  </svg>\n",
              "    </button>\n",
              "    <script>\n",
              "      (() => {\n",
              "      const buttonEl =\n",
              "        document.querySelector('#id_c9bea716-a6f3-4571-aba0-bb091cdf590c button.colab-df-generate');\n",
              "      buttonEl.style.display =\n",
              "        google.colab.kernel.accessAllowed ? 'block' : 'none';\n",
              "\n",
              "      buttonEl.onclick = () => {\n",
              "        google.colab.notebook.generateWithVariable('df_cus');\n",
              "      }\n",
              "      })();\n",
              "    </script>\n",
              "  </div>\n",
              "\n",
              "    </div>\n",
              "  </div>\n"
            ],
            "application/vnd.google.colaboratory.intrinsic+json": {
              "type": "dataframe",
              "variable_name": "df_cus",
              "summary": "{\n  \"name\": \"df_cus\",\n  \"rows\": 4,\n  \"fields\": [\n    {\n      \"column\": \"name\",\n      \"properties\": {\n        \"dtype\": \"string\",\n        \"num_unique_values\": 4,\n        \"samples\": [\n          \"Luis\",\n          \"Ana\",\n          \"Jorge\"\n        ],\n        \"semantic_type\": \"\",\n        \"description\": \"\"\n      }\n    },\n    {\n      \"column\": \"age\",\n      \"properties\": {\n        \"dtype\": \"number\",\n        \"std\": 8,\n        \"min\": 25,\n        \"max\": 44,\n        \"num_unique_values\": 4,\n        \"samples\": [\n          25,\n          27,\n          33\n        ],\n        \"semantic_type\": \"\",\n        \"description\": \"\"\n      }\n    },\n    {\n      \"column\": \"city\",\n      \"properties\": {\n        \"dtype\": \"string\",\n        \"num_unique_values\": 3,\n        \"samples\": [\n          \"Valladolid\",\n          \"Madrid\",\n          \"Cuenca\"\n        ],\n        \"semantic_type\": \"\",\n        \"description\": \"\"\n      }\n    }\n  ]\n}"
            }
          },
          "metadata": {},
          "execution_count": 3
        }
      ],
      "source": [
        "cus = {'name': ['Jorge', 'Luis', 'Pilar', 'Ana'],\n",
        "            'age': [33, 25, 44, 27],\n",
        "            'city': ['Valladolid', 'Madrid', 'Madrid', 'Cuenca']\n",
        "            }\n",
        "\n",
        "df_cus = pd.DataFrame(cus)\n",
        "# El df toma como nombres de las columnas los campos del diccionario\n",
        "print(type(df_cus))\n",
        "df_cus"
      ]
    },
    {
      "cell_type": "markdown",
      "metadata": {
        "id": "Ob0GCYqRI5ss"
      },
      "source": [
        "Info about of the df"
      ]
    },
    {
      "cell_type": "code",
      "execution_count": null,
      "metadata": {
        "colab": {
          "base_uri": "https://localhost:8080/"
        },
        "id": "FD_fu3DwI5ss",
        "outputId": "d7237952-e152-4969-f942-7d9fdc8ae37b"
      },
      "outputs": [
        {
          "output_type": "stream",
          "name": "stdout",
          "text": [
            "(4, 3)\n",
            "name    object\n",
            "age      int64\n",
            "city    object\n",
            "dtype: object\n"
          ]
        }
      ],
      "source": [
        "print(df_cus.shape)\n",
        "print(df_cus.dtypes)"
      ]
    },
    {
      "cell_type": "markdown",
      "metadata": {
        "id": "DJxD_tpHI5st"
      },
      "source": [
        "Create a dataframe by starting from a list and specifying the name of the columns."
      ]
    },
    {
      "cell_type": "code",
      "execution_count": null,
      "metadata": {
        "colab": {
          "base_uri": "https://localhost:8080/",
          "height": 175
        },
        "id": "EwGCTWeaI5st",
        "outputId": "7cabe32f-1d83-4034-ae83-8dbe81e5be44"
      },
      "outputs": [
        {
          "output_type": "execute_result",
          "data": {
            "text/plain": [
              "    name  age        city\n",
              "0  Jorge   33  Valladolid\n",
              "1   Luis   25      Madrid\n",
              "2  Pilar   44    Zaragoza\n",
              "3    Ana   37      Cuenca"
            ],
            "text/html": [
              "\n",
              "  <div id=\"df-0788a3b8-035a-4811-b2fa-6ecd8dd883bd\" class=\"colab-df-container\">\n",
              "    <div>\n",
              "<style scoped>\n",
              "    .dataframe tbody tr th:only-of-type {\n",
              "        vertical-align: middle;\n",
              "    }\n",
              "\n",
              "    .dataframe tbody tr th {\n",
              "        vertical-align: top;\n",
              "    }\n",
              "\n",
              "    .dataframe thead th {\n",
              "        text-align: right;\n",
              "    }\n",
              "</style>\n",
              "<table border=\"1\" class=\"dataframe\">\n",
              "  <thead>\n",
              "    <tr style=\"text-align: right;\">\n",
              "      <th></th>\n",
              "      <th>name</th>\n",
              "      <th>age</th>\n",
              "      <th>city</th>\n",
              "    </tr>\n",
              "  </thead>\n",
              "  <tbody>\n",
              "    <tr>\n",
              "      <th>0</th>\n",
              "      <td>Jorge</td>\n",
              "      <td>33</td>\n",
              "      <td>Valladolid</td>\n",
              "    </tr>\n",
              "    <tr>\n",
              "      <th>1</th>\n",
              "      <td>Luis</td>\n",
              "      <td>25</td>\n",
              "      <td>Madrid</td>\n",
              "    </tr>\n",
              "    <tr>\n",
              "      <th>2</th>\n",
              "      <td>Pilar</td>\n",
              "      <td>44</td>\n",
              "      <td>Zaragoza</td>\n",
              "    </tr>\n",
              "    <tr>\n",
              "      <th>3</th>\n",
              "      <td>Ana</td>\n",
              "      <td>37</td>\n",
              "      <td>Cuenca</td>\n",
              "    </tr>\n",
              "  </tbody>\n",
              "</table>\n",
              "</div>\n",
              "    <div class=\"colab-df-buttons\">\n",
              "\n",
              "  <div class=\"colab-df-container\">\n",
              "    <button class=\"colab-df-convert\" onclick=\"convertToInteractive('df-0788a3b8-035a-4811-b2fa-6ecd8dd883bd')\"\n",
              "            title=\"Convert this dataframe to an interactive table.\"\n",
              "            style=\"display:none;\">\n",
              "\n",
              "  <svg xmlns=\"http://www.w3.org/2000/svg\" height=\"24px\" viewBox=\"0 -960 960 960\">\n",
              "    <path d=\"M120-120v-720h720v720H120Zm60-500h600v-160H180v160Zm220 220h160v-160H400v160Zm0 220h160v-160H400v160ZM180-400h160v-160H180v160Zm440 0h160v-160H620v160ZM180-180h160v-160H180v160Zm440 0h160v-160H620v160Z\"/>\n",
              "  </svg>\n",
              "    </button>\n",
              "\n",
              "  <style>\n",
              "    .colab-df-container {\n",
              "      display:flex;\n",
              "      gap: 12px;\n",
              "    }\n",
              "\n",
              "    .colab-df-convert {\n",
              "      background-color: #E8F0FE;\n",
              "      border: none;\n",
              "      border-radius: 50%;\n",
              "      cursor: pointer;\n",
              "      display: none;\n",
              "      fill: #1967D2;\n",
              "      height: 32px;\n",
              "      padding: 0 0 0 0;\n",
              "      width: 32px;\n",
              "    }\n",
              "\n",
              "    .colab-df-convert:hover {\n",
              "      background-color: #E2EBFA;\n",
              "      box-shadow: 0px 1px 2px rgba(60, 64, 67, 0.3), 0px 1px 3px 1px rgba(60, 64, 67, 0.15);\n",
              "      fill: #174EA6;\n",
              "    }\n",
              "\n",
              "    .colab-df-buttons div {\n",
              "      margin-bottom: 4px;\n",
              "    }\n",
              "\n",
              "    [theme=dark] .colab-df-convert {\n",
              "      background-color: #3B4455;\n",
              "      fill: #D2E3FC;\n",
              "    }\n",
              "\n",
              "    [theme=dark] .colab-df-convert:hover {\n",
              "      background-color: #434B5C;\n",
              "      box-shadow: 0px 1px 3px 1px rgba(0, 0, 0, 0.15);\n",
              "      filter: drop-shadow(0px 1px 2px rgba(0, 0, 0, 0.3));\n",
              "      fill: #FFFFFF;\n",
              "    }\n",
              "  </style>\n",
              "\n",
              "    <script>\n",
              "      const buttonEl =\n",
              "        document.querySelector('#df-0788a3b8-035a-4811-b2fa-6ecd8dd883bd button.colab-df-convert');\n",
              "      buttonEl.style.display =\n",
              "        google.colab.kernel.accessAllowed ? 'block' : 'none';\n",
              "\n",
              "      async function convertToInteractive(key) {\n",
              "        const element = document.querySelector('#df-0788a3b8-035a-4811-b2fa-6ecd8dd883bd');\n",
              "        const dataTable =\n",
              "          await google.colab.kernel.invokeFunction('convertToInteractive',\n",
              "                                                    [key], {});\n",
              "        if (!dataTable) return;\n",
              "\n",
              "        const docLinkHtml = 'Like what you see? Visit the ' +\n",
              "          '<a target=\"_blank\" href=https://colab.research.google.com/notebooks/data_table.ipynb>data table notebook</a>'\n",
              "          + ' to learn more about interactive tables.';\n",
              "        element.innerHTML = '';\n",
              "        dataTable['output_type'] = 'display_data';\n",
              "        await google.colab.output.renderOutput(dataTable, element);\n",
              "        const docLink = document.createElement('div');\n",
              "        docLink.innerHTML = docLinkHtml;\n",
              "        element.appendChild(docLink);\n",
              "      }\n",
              "    </script>\n",
              "  </div>\n",
              "\n",
              "\n",
              "<div id=\"df-f542be8d-c568-4c5f-b0ef-e5facce4952c\">\n",
              "  <button class=\"colab-df-quickchart\" onclick=\"quickchart('df-f542be8d-c568-4c5f-b0ef-e5facce4952c')\"\n",
              "            title=\"Suggest charts\"\n",
              "            style=\"display:none;\">\n",
              "\n",
              "<svg xmlns=\"http://www.w3.org/2000/svg\" height=\"24px\"viewBox=\"0 0 24 24\"\n",
              "     width=\"24px\">\n",
              "    <g>\n",
              "        <path d=\"M19 3H5c-1.1 0-2 .9-2 2v14c0 1.1.9 2 2 2h14c1.1 0 2-.9 2-2V5c0-1.1-.9-2-2-2zM9 17H7v-7h2v7zm4 0h-2V7h2v10zm4 0h-2v-4h2v4z\"/>\n",
              "    </g>\n",
              "</svg>\n",
              "  </button>\n",
              "\n",
              "<style>\n",
              "  .colab-df-quickchart {\n",
              "      --bg-color: #E8F0FE;\n",
              "      --fill-color: #1967D2;\n",
              "      --hover-bg-color: #E2EBFA;\n",
              "      --hover-fill-color: #174EA6;\n",
              "      --disabled-fill-color: #AAA;\n",
              "      --disabled-bg-color: #DDD;\n",
              "  }\n",
              "\n",
              "  [theme=dark] .colab-df-quickchart {\n",
              "      --bg-color: #3B4455;\n",
              "      --fill-color: #D2E3FC;\n",
              "      --hover-bg-color: #434B5C;\n",
              "      --hover-fill-color: #FFFFFF;\n",
              "      --disabled-bg-color: #3B4455;\n",
              "      --disabled-fill-color: #666;\n",
              "  }\n",
              "\n",
              "  .colab-df-quickchart {\n",
              "    background-color: var(--bg-color);\n",
              "    border: none;\n",
              "    border-radius: 50%;\n",
              "    cursor: pointer;\n",
              "    display: none;\n",
              "    fill: var(--fill-color);\n",
              "    height: 32px;\n",
              "    padding: 0;\n",
              "    width: 32px;\n",
              "  }\n",
              "\n",
              "  .colab-df-quickchart:hover {\n",
              "    background-color: var(--hover-bg-color);\n",
              "    box-shadow: 0 1px 2px rgba(60, 64, 67, 0.3), 0 1px 3px 1px rgba(60, 64, 67, 0.15);\n",
              "    fill: var(--button-hover-fill-color);\n",
              "  }\n",
              "\n",
              "  .colab-df-quickchart-complete:disabled,\n",
              "  .colab-df-quickchart-complete:disabled:hover {\n",
              "    background-color: var(--disabled-bg-color);\n",
              "    fill: var(--disabled-fill-color);\n",
              "    box-shadow: none;\n",
              "  }\n",
              "\n",
              "  .colab-df-spinner {\n",
              "    border: 2px solid var(--fill-color);\n",
              "    border-color: transparent;\n",
              "    border-bottom-color: var(--fill-color);\n",
              "    animation:\n",
              "      spin 1s steps(1) infinite;\n",
              "  }\n",
              "\n",
              "  @keyframes spin {\n",
              "    0% {\n",
              "      border-color: transparent;\n",
              "      border-bottom-color: var(--fill-color);\n",
              "      border-left-color: var(--fill-color);\n",
              "    }\n",
              "    20% {\n",
              "      border-color: transparent;\n",
              "      border-left-color: var(--fill-color);\n",
              "      border-top-color: var(--fill-color);\n",
              "    }\n",
              "    30% {\n",
              "      border-color: transparent;\n",
              "      border-left-color: var(--fill-color);\n",
              "      border-top-color: var(--fill-color);\n",
              "      border-right-color: var(--fill-color);\n",
              "    }\n",
              "    40% {\n",
              "      border-color: transparent;\n",
              "      border-right-color: var(--fill-color);\n",
              "      border-top-color: var(--fill-color);\n",
              "    }\n",
              "    60% {\n",
              "      border-color: transparent;\n",
              "      border-right-color: var(--fill-color);\n",
              "    }\n",
              "    80% {\n",
              "      border-color: transparent;\n",
              "      border-right-color: var(--fill-color);\n",
              "      border-bottom-color: var(--fill-color);\n",
              "    }\n",
              "    90% {\n",
              "      border-color: transparent;\n",
              "      border-bottom-color: var(--fill-color);\n",
              "    }\n",
              "  }\n",
              "</style>\n",
              "\n",
              "  <script>\n",
              "    async function quickchart(key) {\n",
              "      const quickchartButtonEl =\n",
              "        document.querySelector('#' + key + ' button');\n",
              "      quickchartButtonEl.disabled = true;  // To prevent multiple clicks.\n",
              "      quickchartButtonEl.classList.add('colab-df-spinner');\n",
              "      try {\n",
              "        const charts = await google.colab.kernel.invokeFunction(\n",
              "            'suggestCharts', [key], {});\n",
              "      } catch (error) {\n",
              "        console.error('Error during call to suggestCharts:', error);\n",
              "      }\n",
              "      quickchartButtonEl.classList.remove('colab-df-spinner');\n",
              "      quickchartButtonEl.classList.add('colab-df-quickchart-complete');\n",
              "    }\n",
              "    (() => {\n",
              "      let quickchartButtonEl =\n",
              "        document.querySelector('#df-f542be8d-c568-4c5f-b0ef-e5facce4952c button');\n",
              "      quickchartButtonEl.style.display =\n",
              "        google.colab.kernel.accessAllowed ? 'block' : 'none';\n",
              "    })();\n",
              "  </script>\n",
              "</div>\n",
              "\n",
              "  <div id=\"id_249e5e1e-fcad-41be-9276-39d9a944c5a2\">\n",
              "    <style>\n",
              "      .colab-df-generate {\n",
              "        background-color: #E8F0FE;\n",
              "        border: none;\n",
              "        border-radius: 50%;\n",
              "        cursor: pointer;\n",
              "        display: none;\n",
              "        fill: #1967D2;\n",
              "        height: 32px;\n",
              "        padding: 0 0 0 0;\n",
              "        width: 32px;\n",
              "      }\n",
              "\n",
              "      .colab-df-generate:hover {\n",
              "        background-color: #E2EBFA;\n",
              "        box-shadow: 0px 1px 2px rgba(60, 64, 67, 0.3), 0px 1px 3px 1px rgba(60, 64, 67, 0.15);\n",
              "        fill: #174EA6;\n",
              "      }\n",
              "\n",
              "      [theme=dark] .colab-df-generate {\n",
              "        background-color: #3B4455;\n",
              "        fill: #D2E3FC;\n",
              "      }\n",
              "\n",
              "      [theme=dark] .colab-df-generate:hover {\n",
              "        background-color: #434B5C;\n",
              "        box-shadow: 0px 1px 3px 1px rgba(0, 0, 0, 0.15);\n",
              "        filter: drop-shadow(0px 1px 2px rgba(0, 0, 0, 0.3));\n",
              "        fill: #FFFFFF;\n",
              "      }\n",
              "    </style>\n",
              "    <button class=\"colab-df-generate\" onclick=\"generateWithVariable('df_cus')\"\n",
              "            title=\"Generate code using this dataframe.\"\n",
              "            style=\"display:none;\">\n",
              "\n",
              "  <svg xmlns=\"http://www.w3.org/2000/svg\" height=\"24px\"viewBox=\"0 0 24 24\"\n",
              "       width=\"24px\">\n",
              "    <path d=\"M7,19H8.4L18.45,9,17,7.55,7,17.6ZM5,21V16.75L18.45,3.32a2,2,0,0,1,2.83,0l1.4,1.43a1.91,1.91,0,0,1,.58,1.4,1.91,1.91,0,0,1-.58,1.4L9.25,21ZM18.45,9,17,7.55Zm-12,3A5.31,5.31,0,0,0,4.9,8.1,5.31,5.31,0,0,0,1,6.5,5.31,5.31,0,0,0,4.9,4.9,5.31,5.31,0,0,0,6.5,1,5.31,5.31,0,0,0,8.1,4.9,5.31,5.31,0,0,0,12,6.5,5.46,5.46,0,0,0,6.5,12Z\"/>\n",
              "  </svg>\n",
              "    </button>\n",
              "    <script>\n",
              "      (() => {\n",
              "      const buttonEl =\n",
              "        document.querySelector('#id_249e5e1e-fcad-41be-9276-39d9a944c5a2 button.colab-df-generate');\n",
              "      buttonEl.style.display =\n",
              "        google.colab.kernel.accessAllowed ? 'block' : 'none';\n",
              "\n",
              "      buttonEl.onclick = () => {\n",
              "        google.colab.notebook.generateWithVariable('df_cus');\n",
              "      }\n",
              "      })();\n",
              "    </script>\n",
              "  </div>\n",
              "\n",
              "    </div>\n",
              "  </div>\n"
            ],
            "application/vnd.google.colaboratory.intrinsic+json": {
              "type": "dataframe",
              "variable_name": "df_cus",
              "summary": "{\n  \"name\": \"df_cus\",\n  \"rows\": 4,\n  \"fields\": [\n    {\n      \"column\": \"name\",\n      \"properties\": {\n        \"dtype\": \"string\",\n        \"num_unique_values\": 4,\n        \"samples\": [\n          \"Luis\",\n          \"Ana\",\n          \"Jorge\"\n        ],\n        \"semantic_type\": \"\",\n        \"description\": \"\"\n      }\n    },\n    {\n      \"column\": \"age\",\n      \"properties\": {\n        \"dtype\": \"number\",\n        \"std\": 7,\n        \"min\": 25,\n        \"max\": 44,\n        \"num_unique_values\": 4,\n        \"samples\": [\n          25,\n          37,\n          33\n        ],\n        \"semantic_type\": \"\",\n        \"description\": \"\"\n      }\n    },\n    {\n      \"column\": \"city\",\n      \"properties\": {\n        \"dtype\": \"string\",\n        \"num_unique_values\": 4,\n        \"samples\": [\n          \"Madrid\",\n          \"Cuenca\",\n          \"Valladolid\"\n        ],\n        \"semantic_type\": \"\",\n        \"description\": \"\"\n      }\n    }\n  ]\n}"
            }
          },
          "metadata": {},
          "execution_count": 6
        }
      ],
      "source": [
        "l_cus = [['Jorge', 33, 'Valladolid'],\n",
        "              ['Luis', 25, 'Madrid'],\n",
        "              ['Pilar', 44, 'Zaragoza'],\n",
        "              ['Ana', 37, 'Cuenca']]\n",
        "\n",
        "#df_cus = pd.DataFrame(l_cus)\n",
        "\n",
        "df_cus = pd.DataFrame(l_cus,\n",
        "   columns=['name', 'age', 'city'])\n",
        "df_cus"
      ]
    },
    {
      "cell_type": "markdown",
      "metadata": {
        "id": "ZJSqnSU0I5st"
      },
      "source": [
        "Creating a dataframe from a list of dictionaries"
      ]
    },
    {
      "cell_type": "code",
      "execution_count": null,
      "metadata": {
        "id": "048As76dI5st",
        "outputId": "45a527b0-b1a3-4e6d-d181-27b2d4f2d731"
      },
      "outputs": [
        {
          "data": {
            "text/html": [
              "<div>\n",
              "<style scoped>\n",
              "    .dataframe tbody tr th:only-of-type {\n",
              "        vertical-align: middle;\n",
              "    }\n",
              "\n",
              "    .dataframe tbody tr th {\n",
              "        vertical-align: top;\n",
              "    }\n",
              "\n",
              "    .dataframe thead th {\n",
              "        text-align: right;\n",
              "    }\n",
              "</style>\n",
              "<table border=\"1\" class=\"dataframe\">\n",
              "  <thead>\n",
              "    <tr style=\"text-align: right;\">\n",
              "      <th></th>\n",
              "      <th>city</th>\n",
              "      <th>sales</th>\n",
              "      <th>center</th>\n",
              "      <th>year</th>\n",
              "      <th>nueva</th>\n",
              "    </tr>\n",
              "  </thead>\n",
              "  <tbody>\n",
              "    <tr>\n",
              "      <th>0</th>\n",
              "      <td>Madrid</td>\n",
              "      <td>100</td>\n",
              "      <td>C1</td>\n",
              "      <td>2019</td>\n",
              "      <td>NaN</td>\n",
              "    </tr>\n",
              "    <tr>\n",
              "      <th>1</th>\n",
              "      <td>Valencia</td>\n",
              "      <td>100</td>\n",
              "      <td>NaN</td>\n",
              "      <td>2019</td>\n",
              "      <td>NaN</td>\n",
              "    </tr>\n",
              "    <tr>\n",
              "      <th>2</th>\n",
              "      <td>Murcia</td>\n",
              "      <td>100</td>\n",
              "      <td>C6</td>\n",
              "      <td>2019</td>\n",
              "      <td>NaN</td>\n",
              "    </tr>\n",
              "    <tr>\n",
              "      <th>3</th>\n",
              "      <td>NaN</td>\n",
              "      <td>100</td>\n",
              "      <td>C6</td>\n",
              "      <td>2019</td>\n",
              "      <td>50.0</td>\n",
              "    </tr>\n",
              "  </tbody>\n",
              "</table>\n",
              "</div>"
            ],
            "text/plain": [
              "       city  sales center  year  nueva\n",
              "0    Madrid    100     C1  2019    NaN\n",
              "1  Valencia    100    NaN  2019    NaN\n",
              "2    Murcia    100     C6  2019    NaN\n",
              "3       NaN    100     C6  2019   50.0"
            ]
          },
          "execution_count": 7,
          "metadata": {},
          "output_type": "execute_result"
        }
      ],
      "source": [
        "lis_dic = [\n",
        "        {'city': 'Madrid', 'sales': 100, 'center': 'C1', 'year': 2019},\n",
        "        {'city': 'Valencia', 'sales': 100, 'year': 2019},\n",
        "        {'city': 'Murcia', 'sales': 100, 'center': 'C6', 'year': 2019},\n",
        "        { 'sales': 100, 'center': 'C6', 'year': 2019, 'nueva': 50}\n",
        "        ]\n",
        "\n",
        "df = pd.DataFrame(lis_dic)\n",
        "df"
      ]
    },
    {
      "cell_type": "markdown",
      "metadata": {
        "id": "jYRlM03KI5su"
      },
      "source": [
        "Iterate a DataFrame with a loop"
      ]
    },
    {
      "cell_type": "code",
      "execution_count": null,
      "metadata": {
        "id": "e49sK56lI5su",
        "outputId": "90d23db6-5c09-41ec-d5d8-8b5a912a7be2"
      },
      "outputs": [
        {
          "data": {
            "text/html": [
              "<div>\n",
              "<style scoped>\n",
              "    .dataframe tbody tr th:only-of-type {\n",
              "        vertical-align: middle;\n",
              "    }\n",
              "\n",
              "    .dataframe tbody tr th {\n",
              "        vertical-align: top;\n",
              "    }\n",
              "\n",
              "    .dataframe thead th {\n",
              "        text-align: right;\n",
              "    }\n",
              "</style>\n",
              "<table border=\"1\" class=\"dataframe\">\n",
              "  <thead>\n",
              "    <tr style=\"text-align: right;\">\n",
              "      <th></th>\n",
              "      <th>city</th>\n",
              "      <th>sales</th>\n",
              "      <th>center</th>\n",
              "      <th>year</th>\n",
              "      <th>nueva</th>\n",
              "    </tr>\n",
              "  </thead>\n",
              "  <tbody>\n",
              "    <tr>\n",
              "      <th>0</th>\n",
              "      <td>Madrid</td>\n",
              "      <td>100</td>\n",
              "      <td>C1</td>\n",
              "      <td>2019</td>\n",
              "      <td>NaN</td>\n",
              "    </tr>\n",
              "    <tr>\n",
              "      <th>1</th>\n",
              "      <td>Valencia</td>\n",
              "      <td>100</td>\n",
              "      <td>NaN</td>\n",
              "      <td>2019</td>\n",
              "      <td>NaN</td>\n",
              "    </tr>\n",
              "    <tr>\n",
              "      <th>2</th>\n",
              "      <td>Murcia</td>\n",
              "      <td>100</td>\n",
              "      <td>C6</td>\n",
              "      <td>2019</td>\n",
              "      <td>NaN</td>\n",
              "    </tr>\n",
              "    <tr>\n",
              "      <th>3</th>\n",
              "      <td>NaN</td>\n",
              "      <td>100</td>\n",
              "      <td>C6</td>\n",
              "      <td>2019</td>\n",
              "      <td>50.0</td>\n",
              "    </tr>\n",
              "  </tbody>\n",
              "</table>\n",
              "</div>"
            ],
            "text/plain": [
              "       city  sales center  year  nueva\n",
              "0    Madrid    100     C1  2019    NaN\n",
              "1  Valencia    100    NaN  2019    NaN\n",
              "2    Murcia    100     C6  2019    NaN\n",
              "3       NaN    100     C6  2019   50.0"
            ]
          },
          "execution_count": 8,
          "metadata": {},
          "output_type": "execute_result"
        }
      ],
      "source": [
        "df"
      ]
    },
    {
      "cell_type": "markdown",
      "metadata": {
        "id": "RnVMbPEdI5su"
      },
      "source": [
        "Object series of Pandas"
      ]
    },
    {
      "cell_type": "code",
      "execution_count": null,
      "metadata": {
        "id": "g9VBb_xsI5su",
        "outputId": "e9365434-7e6a-4fb1-f2b4-60d0ea29a1e8"
      },
      "outputs": [
        {
          "data": {
            "text/plain": [
              "Jan    33\n",
              "Feb    51\n",
              "Mar    48\n",
              "Apr    38\n",
              "May    57\n",
              "Jun    63\n",
              "dtype: int64"
            ]
          },
          "execution_count": 9,
          "metadata": {},
          "output_type": "execute_result"
        }
      ],
      "source": [
        "serie_hist = pd.Series(index=['Jan', 'Feb', 'Mar', 'Apr', 'May', 'Jun'] ,\n",
        "                                            data =[33,51,48,38,57,63])\n",
        "serie_hist"
      ]
    },
    {
      "cell_type": "code",
      "execution_count": null,
      "metadata": {
        "id": "XvYVKROVI5su",
        "outputId": "3cd6e9a6-ac59-44d2-ef14-73454baa0c40"
      },
      "outputs": [
        {
          "data": {
            "text/plain": [
              "33"
            ]
          },
          "execution_count": 10,
          "metadata": {},
          "output_type": "execute_result"
        }
      ],
      "source": [
        "serie_hist['Jan']"
      ]
    },
    {
      "cell_type": "code",
      "execution_count": null,
      "metadata": {
        "id": "CdQhmNhXI5su",
        "outputId": "68204bbc-a166-4fb2-fa05-8ee0897c5992"
      },
      "outputs": [
        {
          "data": {
            "text/plain": [
              "Feb    51\n",
              "May    57\n",
              "Jun    63\n",
              "dtype: int64"
            ]
          },
          "execution_count": 11,
          "metadata": {},
          "output_type": "execute_result"
        }
      ],
      "source": [
        "serie_hist[(serie_hist > 50)]"
      ]
    },
    {
      "cell_type": "markdown",
      "metadata": {
        "id": "yZZSPvU2I5sv"
      },
      "source": [
        "Create a DataFrame from series object"
      ]
    },
    {
      "cell_type": "code",
      "execution_count": null,
      "metadata": {
        "id": "n1OdR6lEI5sv",
        "outputId": "f0b505cd-eb8b-4d1c-8db0-5296b77f414f"
      },
      "outputs": [
        {
          "data": {
            "text/html": [
              "<div>\n",
              "<style scoped>\n",
              "    .dataframe tbody tr th:only-of-type {\n",
              "        vertical-align: middle;\n",
              "    }\n",
              "\n",
              "    .dataframe tbody tr th {\n",
              "        vertical-align: top;\n",
              "    }\n",
              "\n",
              "    .dataframe thead th {\n",
              "        text-align: right;\n",
              "    }\n",
              "</style>\n",
              "<table border=\"1\" class=\"dataframe\">\n",
              "  <thead>\n",
              "    <tr style=\"text-align: right;\">\n",
              "      <th></th>\n",
              "      <th>edad</th>\n",
              "      <th>consumo</th>\n",
              "    </tr>\n",
              "  </thead>\n",
              "  <tbody>\n",
              "    <tr>\n",
              "      <th>c1</th>\n",
              "      <td>33</td>\n",
              "      <td>100</td>\n",
              "    </tr>\n",
              "    <tr>\n",
              "      <th>c2</th>\n",
              "      <td>31</td>\n",
              "      <td>141</td>\n",
              "    </tr>\n",
              "    <tr>\n",
              "      <th>c3</th>\n",
              "      <td>28</td>\n",
              "      <td>200</td>\n",
              "    </tr>\n",
              "  </tbody>\n",
              "</table>\n",
              "</div>"
            ],
            "text/plain": [
              "    edad  consumo\n",
              "c1    33      100\n",
              "c2    31      141\n",
              "c3    28      200"
            ]
          },
          "execution_count": 11,
          "metadata": {},
          "output_type": "execute_result"
        }
      ],
      "source": [
        "customer = {'edad' : pd.Series(index=['c1', 'c2', 'c3'] , data =[33,31,28]),\n",
        "            'consumo' : pd.Series(index=['c1', 'c2', 'c3'] , data =[100,141,200])}\n",
        "df_cus = pd.DataFrame(customer)\n",
        "df_cus"
      ]
    },
    {
      "cell_type": "markdown",
      "metadata": {
        "id": "zrb-04hhI5sv"
      },
      "source": [
        "Read DataFrame from file"
      ]
    },
    {
      "cell_type": "code",
      "execution_count": 17,
      "metadata": {
        "id": "7GLceir5I5sv",
        "outputId": "2d6c7527-4511-4ba5-ce88-a2764b842a4c",
        "colab": {
          "base_uri": "https://localhost:8080/",
          "height": 338
        }
      },
      "outputs": [
        {
          "output_type": "error",
          "ename": "FileNotFoundError",
          "evalue": "[Errno 2] No such file or directory: 'files\\\\f_sales1.csv'",
          "traceback": [
            "\u001b[0;31m---------------------------------------------------------------------------\u001b[0m",
            "\u001b[0;31mFileNotFoundError\u001b[0m                         Traceback (most recent call last)",
            "\u001b[0;32m<ipython-input-17-27c746c33f46>\u001b[0m in \u001b[0;36m<cell line: 1>\u001b[0;34m()\u001b[0m\n\u001b[0;32m----> 1\u001b[0;31m df_sales = pd.read_csv(\"files\\\\f_sales1.csv\",\n\u001b[0m\u001b[1;32m      2\u001b[0m                  sep=';', header='infer')\n\u001b[1;32m      3\u001b[0m \u001b[0mdf_sales\u001b[0m\u001b[0;34m.\u001b[0m\u001b[0mhead\u001b[0m\u001b[0;34m(\u001b[0m\u001b[0;36m10\u001b[0m\u001b[0;34m)\u001b[0m\u001b[0;34m\u001b[0m\u001b[0;34m\u001b[0m\u001b[0m\n",
            "\u001b[0;32m/usr/local/lib/python3.10/dist-packages/pandas/io/parsers/readers.py\u001b[0m in \u001b[0;36mread_csv\u001b[0;34m(filepath_or_buffer, sep, delimiter, header, names, index_col, usecols, dtype, engine, converters, true_values, false_values, skipinitialspace, skiprows, skipfooter, nrows, na_values, keep_default_na, na_filter, verbose, skip_blank_lines, parse_dates, infer_datetime_format, keep_date_col, date_parser, date_format, dayfirst, cache_dates, iterator, chunksize, compression, thousands, decimal, lineterminator, quotechar, quoting, doublequote, escapechar, comment, encoding, encoding_errors, dialect, on_bad_lines, delim_whitespace, low_memory, memory_map, float_precision, storage_options, dtype_backend)\u001b[0m\n\u001b[1;32m    910\u001b[0m     \u001b[0mkwds\u001b[0m\u001b[0;34m.\u001b[0m\u001b[0mupdate\u001b[0m\u001b[0;34m(\u001b[0m\u001b[0mkwds_defaults\u001b[0m\u001b[0;34m)\u001b[0m\u001b[0;34m\u001b[0m\u001b[0;34m\u001b[0m\u001b[0m\n\u001b[1;32m    911\u001b[0m \u001b[0;34m\u001b[0m\u001b[0m\n\u001b[0;32m--> 912\u001b[0;31m     \u001b[0;32mreturn\u001b[0m \u001b[0m_read\u001b[0m\u001b[0;34m(\u001b[0m\u001b[0mfilepath_or_buffer\u001b[0m\u001b[0;34m,\u001b[0m \u001b[0mkwds\u001b[0m\u001b[0;34m)\u001b[0m\u001b[0;34m\u001b[0m\u001b[0;34m\u001b[0m\u001b[0m\n\u001b[0m\u001b[1;32m    913\u001b[0m \u001b[0;34m\u001b[0m\u001b[0m\n\u001b[1;32m    914\u001b[0m \u001b[0;34m\u001b[0m\u001b[0m\n",
            "\u001b[0;32m/usr/local/lib/python3.10/dist-packages/pandas/io/parsers/readers.py\u001b[0m in \u001b[0;36m_read\u001b[0;34m(filepath_or_buffer, kwds)\u001b[0m\n\u001b[1;32m    575\u001b[0m \u001b[0;34m\u001b[0m\u001b[0m\n\u001b[1;32m    576\u001b[0m     \u001b[0;31m# Create the parser.\u001b[0m\u001b[0;34m\u001b[0m\u001b[0;34m\u001b[0m\u001b[0m\n\u001b[0;32m--> 577\u001b[0;31m     \u001b[0mparser\u001b[0m \u001b[0;34m=\u001b[0m \u001b[0mTextFileReader\u001b[0m\u001b[0;34m(\u001b[0m\u001b[0mfilepath_or_buffer\u001b[0m\u001b[0;34m,\u001b[0m \u001b[0;34m**\u001b[0m\u001b[0mkwds\u001b[0m\u001b[0;34m)\u001b[0m\u001b[0;34m\u001b[0m\u001b[0;34m\u001b[0m\u001b[0m\n\u001b[0m\u001b[1;32m    578\u001b[0m \u001b[0;34m\u001b[0m\u001b[0m\n\u001b[1;32m    579\u001b[0m     \u001b[0;32mif\u001b[0m \u001b[0mchunksize\u001b[0m \u001b[0;32mor\u001b[0m \u001b[0miterator\u001b[0m\u001b[0;34m:\u001b[0m\u001b[0;34m\u001b[0m\u001b[0;34m\u001b[0m\u001b[0m\n",
            "\u001b[0;32m/usr/local/lib/python3.10/dist-packages/pandas/io/parsers/readers.py\u001b[0m in \u001b[0;36m__init__\u001b[0;34m(self, f, engine, **kwds)\u001b[0m\n\u001b[1;32m   1405\u001b[0m \u001b[0;34m\u001b[0m\u001b[0m\n\u001b[1;32m   1406\u001b[0m         \u001b[0mself\u001b[0m\u001b[0;34m.\u001b[0m\u001b[0mhandles\u001b[0m\u001b[0;34m:\u001b[0m \u001b[0mIOHandles\u001b[0m \u001b[0;34m|\u001b[0m \u001b[0;32mNone\u001b[0m \u001b[0;34m=\u001b[0m \u001b[0;32mNone\u001b[0m\u001b[0;34m\u001b[0m\u001b[0;34m\u001b[0m\u001b[0m\n\u001b[0;32m-> 1407\u001b[0;31m         \u001b[0mself\u001b[0m\u001b[0;34m.\u001b[0m\u001b[0m_engine\u001b[0m \u001b[0;34m=\u001b[0m \u001b[0mself\u001b[0m\u001b[0;34m.\u001b[0m\u001b[0m_make_engine\u001b[0m\u001b[0;34m(\u001b[0m\u001b[0mf\u001b[0m\u001b[0;34m,\u001b[0m \u001b[0mself\u001b[0m\u001b[0;34m.\u001b[0m\u001b[0mengine\u001b[0m\u001b[0;34m)\u001b[0m\u001b[0;34m\u001b[0m\u001b[0;34m\u001b[0m\u001b[0m\n\u001b[0m\u001b[1;32m   1408\u001b[0m \u001b[0;34m\u001b[0m\u001b[0m\n\u001b[1;32m   1409\u001b[0m     \u001b[0;32mdef\u001b[0m \u001b[0mclose\u001b[0m\u001b[0;34m(\u001b[0m\u001b[0mself\u001b[0m\u001b[0;34m)\u001b[0m \u001b[0;34m->\u001b[0m \u001b[0;32mNone\u001b[0m\u001b[0;34m:\u001b[0m\u001b[0;34m\u001b[0m\u001b[0;34m\u001b[0m\u001b[0m\n",
            "\u001b[0;32m/usr/local/lib/python3.10/dist-packages/pandas/io/parsers/readers.py\u001b[0m in \u001b[0;36m_make_engine\u001b[0;34m(self, f, engine)\u001b[0m\n\u001b[1;32m   1659\u001b[0m                 \u001b[0;32mif\u001b[0m \u001b[0;34m\"b\"\u001b[0m \u001b[0;32mnot\u001b[0m \u001b[0;32min\u001b[0m \u001b[0mmode\u001b[0m\u001b[0;34m:\u001b[0m\u001b[0;34m\u001b[0m\u001b[0;34m\u001b[0m\u001b[0m\n\u001b[1;32m   1660\u001b[0m                     \u001b[0mmode\u001b[0m \u001b[0;34m+=\u001b[0m \u001b[0;34m\"b\"\u001b[0m\u001b[0;34m\u001b[0m\u001b[0;34m\u001b[0m\u001b[0m\n\u001b[0;32m-> 1661\u001b[0;31m             self.handles = get_handle(\n\u001b[0m\u001b[1;32m   1662\u001b[0m                 \u001b[0mf\u001b[0m\u001b[0;34m,\u001b[0m\u001b[0;34m\u001b[0m\u001b[0;34m\u001b[0m\u001b[0m\n\u001b[1;32m   1663\u001b[0m                 \u001b[0mmode\u001b[0m\u001b[0;34m,\u001b[0m\u001b[0;34m\u001b[0m\u001b[0;34m\u001b[0m\u001b[0m\n",
            "\u001b[0;32m/usr/local/lib/python3.10/dist-packages/pandas/io/common.py\u001b[0m in \u001b[0;36mget_handle\u001b[0;34m(path_or_buf, mode, encoding, compression, memory_map, is_text, errors, storage_options)\u001b[0m\n\u001b[1;32m    857\u001b[0m         \u001b[0;32mif\u001b[0m \u001b[0mioargs\u001b[0m\u001b[0;34m.\u001b[0m\u001b[0mencoding\u001b[0m \u001b[0;32mand\u001b[0m \u001b[0;34m\"b\"\u001b[0m \u001b[0;32mnot\u001b[0m \u001b[0;32min\u001b[0m \u001b[0mioargs\u001b[0m\u001b[0;34m.\u001b[0m\u001b[0mmode\u001b[0m\u001b[0;34m:\u001b[0m\u001b[0;34m\u001b[0m\u001b[0;34m\u001b[0m\u001b[0m\n\u001b[1;32m    858\u001b[0m             \u001b[0;31m# Encoding\u001b[0m\u001b[0;34m\u001b[0m\u001b[0;34m\u001b[0m\u001b[0m\n\u001b[0;32m--> 859\u001b[0;31m             handle = open(\n\u001b[0m\u001b[1;32m    860\u001b[0m                 \u001b[0mhandle\u001b[0m\u001b[0;34m,\u001b[0m\u001b[0;34m\u001b[0m\u001b[0;34m\u001b[0m\u001b[0m\n\u001b[1;32m    861\u001b[0m                 \u001b[0mioargs\u001b[0m\u001b[0;34m.\u001b[0m\u001b[0mmode\u001b[0m\u001b[0;34m,\u001b[0m\u001b[0;34m\u001b[0m\u001b[0;34m\u001b[0m\u001b[0m\n",
            "\u001b[0;31mFileNotFoundError\u001b[0m: [Errno 2] No such file or directory: 'files\\\\f_sales1.csv'"
          ]
        }
      ],
      "source": [
        "df_sales = pd.read_csv(\"files\\\\f_sales1.csv\",\n",
        "                 sep=';', header='infer')\n",
        "df_sales.head(10)"
      ]
    },
    {
      "cell_type": "code",
      "source": [
        "from google.colab import drive\n",
        "drive.mount('/content/drive')"
      ],
      "metadata": {
        "colab": {
          "base_uri": "https://localhost:8080/"
        },
        "id": "J7dZhHaGYhEX",
        "outputId": "8cfaf557-f4d7-4579-f132-51b9517803c0"
      },
      "execution_count": 16,
      "outputs": [
        {
          "output_type": "stream",
          "name": "stdout",
          "text": [
            "Drive already mounted at /content/drive; to attempt to forcibly remount, call drive.mount(\"/content/drive\", force_remount=True).\n"
          ]
        }
      ]
    },
    {
      "cell_type": "code",
      "execution_count": 10,
      "metadata": {
        "id": "2c7lI3zpI5sv",
        "outputId": "1d515231-c245-4a5d-eaf1-1a7bc81eca9a",
        "colab": {
          "base_uri": "https://localhost:8080/",
          "height": 176
        }
      },
      "outputs": [
        {
          "output_type": "error",
          "ename": "NameError",
          "evalue": "name 'df_sales' is not defined",
          "traceback": [
            "\u001b[0;31m---------------------------------------------------------------------------\u001b[0m",
            "\u001b[0;31mNameError\u001b[0m                                 Traceback (most recent call last)",
            "\u001b[0;32m<ipython-input-10-2ca94f88511d>\u001b[0m in \u001b[0;36m<cell line: 3>\u001b[0;34m()\u001b[0m\n\u001b[1;32m      1\u001b[0m \u001b[0;31m# se puede especificar ruta completa\u001b[0m\u001b[0;34m\u001b[0m\u001b[0;34m\u001b[0m\u001b[0m\n\u001b[1;32m      2\u001b[0m \u001b[0;31m#df_sales = pd.read_csv(\"C:\\\\.........\\\\ficheros\\\\f_sales1.txt\",    sep=';', header='infer')\u001b[0m\u001b[0;34m\u001b[0m\u001b[0;34m\u001b[0m\u001b[0m\n\u001b[0;32m----> 3\u001b[0;31m \u001b[0mdf_sales\u001b[0m\u001b[0;34m.\u001b[0m\u001b[0mhead\u001b[0m\u001b[0;34m(\u001b[0m\u001b[0;36m10\u001b[0m\u001b[0;34m)\u001b[0m\u001b[0;34m\u001b[0m\u001b[0;34m\u001b[0m\u001b[0m\n\u001b[0m",
            "\u001b[0;31mNameError\u001b[0m: name 'df_sales' is not defined"
          ]
        }
      ],
      "source": [
        "# se puede especificar ruta completa\n",
        "#df_sales = pd.read_csv(\"C:\\\\.........\\\\ficheros\\\\f_sales1.txt\",    sep=';', header='infer')\n",
        "df_sales.head(10)"
      ]
    },
    {
      "cell_type": "code",
      "execution_count": null,
      "metadata": {
        "colab": {
          "base_uri": "https://localhost:8080/"
        },
        "id": "Fzuq_NNZI5sv",
        "outputId": "0e9759db-8182-474c-b9a3-11b33fcf181a"
      },
      "outputs": [
        {
          "output_type": "stream",
          "name": "stdout",
          "text": [
            "sample_data\n"
          ]
        }
      ],
      "source": [
        "!dir"
      ]
    },
    {
      "cell_type": "code",
      "execution_count": 11,
      "metadata": {
        "id": "GJs-HiAQI5sv",
        "outputId": "bda34f84-0d64-4bff-8e76-2da213ea6577",
        "colab": {
          "base_uri": "https://localhost:8080/",
          "height": 338
        }
      },
      "outputs": [
        {
          "output_type": "error",
          "ename": "FileNotFoundError",
          "evalue": "[Errno 2] No such file or directory: 'files\\\\f_sales1.csv'",
          "traceback": [
            "\u001b[0;31m---------------------------------------------------------------------------\u001b[0m",
            "\u001b[0;31mFileNotFoundError\u001b[0m                         Traceback (most recent call last)",
            "\u001b[0;32m<ipython-input-11-27c746c33f46>\u001b[0m in \u001b[0;36m<cell line: 1>\u001b[0;34m()\u001b[0m\n\u001b[0;32m----> 1\u001b[0;31m df_sales = pd.read_csv(\"files\\\\f_sales1.csv\",\n\u001b[0m\u001b[1;32m      2\u001b[0m                  sep=';', header='infer')\n\u001b[1;32m      3\u001b[0m \u001b[0mdf_sales\u001b[0m\u001b[0;34m.\u001b[0m\u001b[0mhead\u001b[0m\u001b[0;34m(\u001b[0m\u001b[0;36m10\u001b[0m\u001b[0;34m)\u001b[0m\u001b[0;34m\u001b[0m\u001b[0;34m\u001b[0m\u001b[0m\n",
            "\u001b[0;32m/usr/local/lib/python3.10/dist-packages/pandas/io/parsers/readers.py\u001b[0m in \u001b[0;36mread_csv\u001b[0;34m(filepath_or_buffer, sep, delimiter, header, names, index_col, usecols, dtype, engine, converters, true_values, false_values, skipinitialspace, skiprows, skipfooter, nrows, na_values, keep_default_na, na_filter, verbose, skip_blank_lines, parse_dates, infer_datetime_format, keep_date_col, date_parser, date_format, dayfirst, cache_dates, iterator, chunksize, compression, thousands, decimal, lineterminator, quotechar, quoting, doublequote, escapechar, comment, encoding, encoding_errors, dialect, on_bad_lines, delim_whitespace, low_memory, memory_map, float_precision, storage_options, dtype_backend)\u001b[0m\n\u001b[1;32m    910\u001b[0m     \u001b[0mkwds\u001b[0m\u001b[0;34m.\u001b[0m\u001b[0mupdate\u001b[0m\u001b[0;34m(\u001b[0m\u001b[0mkwds_defaults\u001b[0m\u001b[0;34m)\u001b[0m\u001b[0;34m\u001b[0m\u001b[0;34m\u001b[0m\u001b[0m\n\u001b[1;32m    911\u001b[0m \u001b[0;34m\u001b[0m\u001b[0m\n\u001b[0;32m--> 912\u001b[0;31m     \u001b[0;32mreturn\u001b[0m \u001b[0m_read\u001b[0m\u001b[0;34m(\u001b[0m\u001b[0mfilepath_or_buffer\u001b[0m\u001b[0;34m,\u001b[0m \u001b[0mkwds\u001b[0m\u001b[0;34m)\u001b[0m\u001b[0;34m\u001b[0m\u001b[0;34m\u001b[0m\u001b[0m\n\u001b[0m\u001b[1;32m    913\u001b[0m \u001b[0;34m\u001b[0m\u001b[0m\n\u001b[1;32m    914\u001b[0m \u001b[0;34m\u001b[0m\u001b[0m\n",
            "\u001b[0;32m/usr/local/lib/python3.10/dist-packages/pandas/io/parsers/readers.py\u001b[0m in \u001b[0;36m_read\u001b[0;34m(filepath_or_buffer, kwds)\u001b[0m\n\u001b[1;32m    575\u001b[0m \u001b[0;34m\u001b[0m\u001b[0m\n\u001b[1;32m    576\u001b[0m     \u001b[0;31m# Create the parser.\u001b[0m\u001b[0;34m\u001b[0m\u001b[0;34m\u001b[0m\u001b[0m\n\u001b[0;32m--> 577\u001b[0;31m     \u001b[0mparser\u001b[0m \u001b[0;34m=\u001b[0m \u001b[0mTextFileReader\u001b[0m\u001b[0;34m(\u001b[0m\u001b[0mfilepath_or_buffer\u001b[0m\u001b[0;34m,\u001b[0m \u001b[0;34m**\u001b[0m\u001b[0mkwds\u001b[0m\u001b[0;34m)\u001b[0m\u001b[0;34m\u001b[0m\u001b[0;34m\u001b[0m\u001b[0m\n\u001b[0m\u001b[1;32m    578\u001b[0m \u001b[0;34m\u001b[0m\u001b[0m\n\u001b[1;32m    579\u001b[0m     \u001b[0;32mif\u001b[0m \u001b[0mchunksize\u001b[0m \u001b[0;32mor\u001b[0m \u001b[0miterator\u001b[0m\u001b[0;34m:\u001b[0m\u001b[0;34m\u001b[0m\u001b[0;34m\u001b[0m\u001b[0m\n",
            "\u001b[0;32m/usr/local/lib/python3.10/dist-packages/pandas/io/parsers/readers.py\u001b[0m in \u001b[0;36m__init__\u001b[0;34m(self, f, engine, **kwds)\u001b[0m\n\u001b[1;32m   1405\u001b[0m \u001b[0;34m\u001b[0m\u001b[0m\n\u001b[1;32m   1406\u001b[0m         \u001b[0mself\u001b[0m\u001b[0;34m.\u001b[0m\u001b[0mhandles\u001b[0m\u001b[0;34m:\u001b[0m \u001b[0mIOHandles\u001b[0m \u001b[0;34m|\u001b[0m \u001b[0;32mNone\u001b[0m \u001b[0;34m=\u001b[0m \u001b[0;32mNone\u001b[0m\u001b[0;34m\u001b[0m\u001b[0;34m\u001b[0m\u001b[0m\n\u001b[0;32m-> 1407\u001b[0;31m         \u001b[0mself\u001b[0m\u001b[0;34m.\u001b[0m\u001b[0m_engine\u001b[0m \u001b[0;34m=\u001b[0m \u001b[0mself\u001b[0m\u001b[0;34m.\u001b[0m\u001b[0m_make_engine\u001b[0m\u001b[0;34m(\u001b[0m\u001b[0mf\u001b[0m\u001b[0;34m,\u001b[0m \u001b[0mself\u001b[0m\u001b[0;34m.\u001b[0m\u001b[0mengine\u001b[0m\u001b[0;34m)\u001b[0m\u001b[0;34m\u001b[0m\u001b[0;34m\u001b[0m\u001b[0m\n\u001b[0m\u001b[1;32m   1408\u001b[0m \u001b[0;34m\u001b[0m\u001b[0m\n\u001b[1;32m   1409\u001b[0m     \u001b[0;32mdef\u001b[0m \u001b[0mclose\u001b[0m\u001b[0;34m(\u001b[0m\u001b[0mself\u001b[0m\u001b[0;34m)\u001b[0m \u001b[0;34m->\u001b[0m \u001b[0;32mNone\u001b[0m\u001b[0;34m:\u001b[0m\u001b[0;34m\u001b[0m\u001b[0;34m\u001b[0m\u001b[0m\n",
            "\u001b[0;32m/usr/local/lib/python3.10/dist-packages/pandas/io/parsers/readers.py\u001b[0m in \u001b[0;36m_make_engine\u001b[0;34m(self, f, engine)\u001b[0m\n\u001b[1;32m   1659\u001b[0m                 \u001b[0;32mif\u001b[0m \u001b[0;34m\"b\"\u001b[0m \u001b[0;32mnot\u001b[0m \u001b[0;32min\u001b[0m \u001b[0mmode\u001b[0m\u001b[0;34m:\u001b[0m\u001b[0;34m\u001b[0m\u001b[0;34m\u001b[0m\u001b[0m\n\u001b[1;32m   1660\u001b[0m                     \u001b[0mmode\u001b[0m \u001b[0;34m+=\u001b[0m \u001b[0;34m\"b\"\u001b[0m\u001b[0;34m\u001b[0m\u001b[0;34m\u001b[0m\u001b[0m\n\u001b[0;32m-> 1661\u001b[0;31m             self.handles = get_handle(\n\u001b[0m\u001b[1;32m   1662\u001b[0m                 \u001b[0mf\u001b[0m\u001b[0;34m,\u001b[0m\u001b[0;34m\u001b[0m\u001b[0;34m\u001b[0m\u001b[0m\n\u001b[1;32m   1663\u001b[0m                 \u001b[0mmode\u001b[0m\u001b[0;34m,\u001b[0m\u001b[0;34m\u001b[0m\u001b[0;34m\u001b[0m\u001b[0m\n",
            "\u001b[0;32m/usr/local/lib/python3.10/dist-packages/pandas/io/common.py\u001b[0m in \u001b[0;36mget_handle\u001b[0;34m(path_or_buf, mode, encoding, compression, memory_map, is_text, errors, storage_options)\u001b[0m\n\u001b[1;32m    857\u001b[0m         \u001b[0;32mif\u001b[0m \u001b[0mioargs\u001b[0m\u001b[0;34m.\u001b[0m\u001b[0mencoding\u001b[0m \u001b[0;32mand\u001b[0m \u001b[0;34m\"b\"\u001b[0m \u001b[0;32mnot\u001b[0m \u001b[0;32min\u001b[0m \u001b[0mioargs\u001b[0m\u001b[0;34m.\u001b[0m\u001b[0mmode\u001b[0m\u001b[0;34m:\u001b[0m\u001b[0;34m\u001b[0m\u001b[0;34m\u001b[0m\u001b[0m\n\u001b[1;32m    858\u001b[0m             \u001b[0;31m# Encoding\u001b[0m\u001b[0;34m\u001b[0m\u001b[0;34m\u001b[0m\u001b[0m\n\u001b[0;32m--> 859\u001b[0;31m             handle = open(\n\u001b[0m\u001b[1;32m    860\u001b[0m                 \u001b[0mhandle\u001b[0m\u001b[0;34m,\u001b[0m\u001b[0;34m\u001b[0m\u001b[0;34m\u001b[0m\u001b[0m\n\u001b[1;32m    861\u001b[0m                 \u001b[0mioargs\u001b[0m\u001b[0;34m.\u001b[0m\u001b[0mmode\u001b[0m\u001b[0;34m,\u001b[0m\u001b[0;34m\u001b[0m\u001b[0;34m\u001b[0m\u001b[0m\n",
            "\u001b[0;31mFileNotFoundError\u001b[0m: [Errno 2] No such file or directory: 'files\\\\f_sales1.csv'"
          ]
        }
      ],
      "source": [
        "df_sales = pd.read_csv(\"files\\\\f_sales1.csv\",\n",
        "                 sep=';', header='infer')\n",
        "df_sales.head(10)"
      ]
    },
    {
      "cell_type": "code",
      "execution_count": null,
      "metadata": {
        "id": "UmFLNPcfI5sv",
        "outputId": "fe0faaf1-c7b4-44f1-c622-b098ecb48fde"
      },
      "outputs": [
        {
          "data": {
            "text/html": [
              "<div>\n",
              "<style scoped>\n",
              "    .dataframe tbody tr th:only-of-type {\n",
              "        vertical-align: middle;\n",
              "    }\n",
              "\n",
              "    .dataframe tbody tr th {\n",
              "        vertical-align: top;\n",
              "    }\n",
              "\n",
              "    .dataframe thead th {\n",
              "        text-align: right;\n",
              "    }\n",
              "</style>\n",
              "<table border=\"1\" class=\"dataframe\">\n",
              "  <thead>\n",
              "    <tr style=\"text-align: right;\">\n",
              "      <th></th>\n",
              "      <th>oficina</th>\n",
              "      <th>vendedor</th>\n",
              "      <th>producto</th>\n",
              "      <th>unidades</th>\n",
              "    </tr>\n",
              "  </thead>\n",
              "  <tbody>\n",
              "    <tr>\n",
              "      <th>0</th>\n",
              "      <td>Madrid</td>\n",
              "      <td>m_vendedor1</td>\n",
              "      <td>P1</td>\n",
              "      <td>20</td>\n",
              "    </tr>\n",
              "    <tr>\n",
              "      <th>1</th>\n",
              "      <td>Madrid</td>\n",
              "      <td>m_vendedor1</td>\n",
              "      <td>P2</td>\n",
              "      <td>19</td>\n",
              "    </tr>\n",
              "    <tr>\n",
              "      <th>2</th>\n",
              "      <td>Madrid</td>\n",
              "      <td>m_vendedor1</td>\n",
              "      <td>P3</td>\n",
              "      <td>8</td>\n",
              "    </tr>\n",
              "    <tr>\n",
              "      <th>3</th>\n",
              "      <td>Madrid</td>\n",
              "      <td>m_vendedor1</td>\n",
              "      <td>P4</td>\n",
              "      <td>5</td>\n",
              "    </tr>\n",
              "    <tr>\n",
              "      <th>4</th>\n",
              "      <td>Madrid</td>\n",
              "      <td>m_vendedor1</td>\n",
              "      <td>P5</td>\n",
              "      <td>18</td>\n",
              "    </tr>\n",
              "    <tr>\n",
              "      <th>5</th>\n",
              "      <td>Madrid</td>\n",
              "      <td>m_vendedor4</td>\n",
              "      <td>P14</td>\n",
              "      <td>1</td>\n",
              "    </tr>\n",
              "    <tr>\n",
              "      <th>6</th>\n",
              "      <td>Madrid</td>\n",
              "      <td>m_vendedor4</td>\n",
              "      <td>P15</td>\n",
              "      <td>7</td>\n",
              "    </tr>\n",
              "    <tr>\n",
              "      <th>7</th>\n",
              "      <td>Valencia</td>\n",
              "      <td>v_vendedor1</td>\n",
              "      <td>P10</td>\n",
              "      <td>1</td>\n",
              "    </tr>\n",
              "    <tr>\n",
              "      <th>8</th>\n",
              "      <td>Valencia</td>\n",
              "      <td>v_vendedor1</td>\n",
              "      <td>P11</td>\n",
              "      <td>2</td>\n",
              "    </tr>\n",
              "    <tr>\n",
              "      <th>9</th>\n",
              "      <td>Valencia</td>\n",
              "      <td>v_vendedor1</td>\n",
              "      <td>P12</td>\n",
              "      <td>0</td>\n",
              "    </tr>\n",
              "  </tbody>\n",
              "</table>\n",
              "</div>"
            ],
            "text/plain": [
              "    oficina     vendedor producto  unidades\n",
              "0    Madrid  m_vendedor1       P1        20\n",
              "1    Madrid  m_vendedor1       P2        19\n",
              "2    Madrid  m_vendedor1       P3         8\n",
              "3    Madrid  m_vendedor1       P4         5\n",
              "4    Madrid  m_vendedor1       P5        18\n",
              "5    Madrid  m_vendedor4      P14         1\n",
              "6    Madrid  m_vendedor4      P15         7\n",
              "7  Valencia  v_vendedor1      P10         1\n",
              "8  Valencia  v_vendedor1      P11         2\n",
              "9  Valencia  v_vendedor1      P12         0"
            ]
          },
          "execution_count": 16,
          "metadata": {},
          "output_type": "execute_result"
        }
      ],
      "source": [
        "# If the file folder were at the same level as the path of the script\n",
        "# we use '..'' and then the name of the folder where it is located\n",
        "#df_sales = pd.read_csv(\"..\\\\files\\\\f_sales1.csv\",                 sep=';', header='infer')\n",
        "df_sales.head(10)"
      ]
    },
    {
      "cell_type": "code",
      "execution_count": null,
      "metadata": {
        "id": "2CBKttpdI5sw",
        "outputId": "bf000327-fd59-49ca-bfc8-6fcda0de27f2"
      },
      "outputs": [
        {
          "data": {
            "text/plain": [
              "office         object\n",
              "salesperson    object\n",
              "product        object\n",
              "units           int64\n",
              "dtype: object"
            ]
          },
          "execution_count": 15,
          "metadata": {},
          "output_type": "execute_result"
        }
      ],
      "source": [
        "df_sales.dtypes"
      ]
    },
    {
      "cell_type": "markdown",
      "metadata": {
        "id": "rg3PsvieI5sw"
      },
      "source": [
        "You can specify the types on read. This reduces time reading on large files"
      ]
    },
    {
      "cell_type": "code",
      "execution_count": null,
      "metadata": {
        "id": "xjQuC62aI5sw",
        "outputId": "eb3e661b-debc-4146-dc8f-4c8649f2776c"
      },
      "outputs": [
        {
          "data": {
            "text/html": [
              "<div>\n",
              "<style scoped>\n",
              "    .dataframe tbody tr th:only-of-type {\n",
              "        vertical-align: middle;\n",
              "    }\n",
              "\n",
              "    .dataframe tbody tr th {\n",
              "        vertical-align: top;\n",
              "    }\n",
              "\n",
              "    .dataframe thead th {\n",
              "        text-align: right;\n",
              "    }\n",
              "</style>\n",
              "<table border=\"1\" class=\"dataframe\">\n",
              "  <thead>\n",
              "    <tr style=\"text-align: right;\">\n",
              "      <th></th>\n",
              "      <th>office</th>\n",
              "      <th>salesperson</th>\n",
              "      <th>product</th>\n",
              "      <th>units</th>\n",
              "    </tr>\n",
              "  </thead>\n",
              "  <tbody>\n",
              "    <tr>\n",
              "      <th>0</th>\n",
              "      <td>Madrid</td>\n",
              "      <td>m_sp1</td>\n",
              "      <td>P1</td>\n",
              "      <td>20</td>\n",
              "    </tr>\n",
              "    <tr>\n",
              "      <th>1</th>\n",
              "      <td>Madrid</td>\n",
              "      <td>m_sp1</td>\n",
              "      <td>P2</td>\n",
              "      <td>19</td>\n",
              "    </tr>\n",
              "    <tr>\n",
              "      <th>2</th>\n",
              "      <td>Madrid</td>\n",
              "      <td>m_sp1</td>\n",
              "      <td>P3</td>\n",
              "      <td>8</td>\n",
              "    </tr>\n",
              "    <tr>\n",
              "      <th>3</th>\n",
              "      <td>Madrid</td>\n",
              "      <td>m_sp1</td>\n",
              "      <td>P4</td>\n",
              "      <td>5</td>\n",
              "    </tr>\n",
              "    <tr>\n",
              "      <th>4</th>\n",
              "      <td>Madrid</td>\n",
              "      <td>m_sp1</td>\n",
              "      <td>P5</td>\n",
              "      <td>18</td>\n",
              "    </tr>\n",
              "    <tr>\n",
              "      <th>5</th>\n",
              "      <td>Madrid</td>\n",
              "      <td>m_sp4</td>\n",
              "      <td>P14</td>\n",
              "      <td>1</td>\n",
              "    </tr>\n",
              "    <tr>\n",
              "      <th>6</th>\n",
              "      <td>Madrid</td>\n",
              "      <td>m_sp4</td>\n",
              "      <td>P15</td>\n",
              "      <td>7</td>\n",
              "    </tr>\n",
              "    <tr>\n",
              "      <th>7</th>\n",
              "      <td>Valencia</td>\n",
              "      <td>v_sp1</td>\n",
              "      <td>P10</td>\n",
              "      <td>1</td>\n",
              "    </tr>\n",
              "    <tr>\n",
              "      <th>8</th>\n",
              "      <td>Valencia</td>\n",
              "      <td>v_sp1</td>\n",
              "      <td>P11</td>\n",
              "      <td>2</td>\n",
              "    </tr>\n",
              "    <tr>\n",
              "      <th>9</th>\n",
              "      <td>Valencia</td>\n",
              "      <td>v_sp1</td>\n",
              "      <td>P12</td>\n",
              "      <td>0</td>\n",
              "    </tr>\n",
              "  </tbody>\n",
              "</table>\n",
              "</div>"
            ],
            "text/plain": [
              "     office salesperson product  units\n",
              "0    Madrid       m_sp1      P1     20\n",
              "1    Madrid       m_sp1      P2     19\n",
              "2    Madrid       m_sp1      P3      8\n",
              "3    Madrid       m_sp1      P4      5\n",
              "4    Madrid       m_sp1      P5     18\n",
              "5    Madrid       m_sp4     P14      1\n",
              "6    Madrid       m_sp4     P15      7\n",
              "7  Valencia       v_sp1     P10      1\n",
              "8  Valencia       v_sp1     P11      2\n",
              "9  Valencia       v_sp1     P12      0"
            ]
          },
          "execution_count": 19,
          "metadata": {},
          "output_type": "execute_result"
        }
      ],
      "source": [
        "types = {'office': 'str', 'salesperson': 'str', 'product': 'str', 'units': 'int'}\n",
        "df_sales = pd.read_csv(\"files\\\\f_sales1.csv\",\n",
        "                 sep=';', header='infer', dtype=types)\n",
        "df_sales.head(10)"
      ]
    },
    {
      "cell_type": "code",
      "execution_count": null,
      "metadata": {
        "id": "lHWizubDI5sw",
        "outputId": "e8bae7eb-2352-40f1-c7c2-9cd156b48ff7"
      },
      "outputs": [
        {
          "data": {
            "text/plain": [
              "office         object\n",
              "salesperson    object\n",
              "product        object\n",
              "units           int32\n",
              "dtype: object"
            ]
          },
          "execution_count": 20,
          "metadata": {},
          "output_type": "execute_result"
        }
      ],
      "source": [
        "df_sales.dtypes"
      ]
    },
    {
      "cell_type": "markdown",
      "metadata": {
        "id": "615Wx53bI5sw"
      },
      "source": [
        "__Number__ of __rows__"
      ]
    },
    {
      "cell_type": "code",
      "execution_count": null,
      "metadata": {
        "id": "6tTf-4y5I5sw",
        "outputId": "1da6cb7b-7524-473c-d32a-1a39a133c2f0"
      },
      "outputs": [
        {
          "data": {
            "text/plain": [
              "oficina     34\n",
              "vendedor    34\n",
              "producto    34\n",
              "unidades    34\n",
              "dtype: int64"
            ]
          },
          "execution_count": 20,
          "metadata": {},
          "output_type": "execute_result"
        }
      ],
      "source": [
        "df_sales.count()"
      ]
    },
    {
      "cell_type": "markdown",
      "metadata": {
        "id": "BnwTw6iuI5sx"
      },
      "source": [
        "Get a __sample__ of df"
      ]
    },
    {
      "cell_type": "code",
      "execution_count": null,
      "metadata": {
        "id": "p5sJqlk4I5sx",
        "outputId": "e2309a49-a1f3-4ec1-c151-49f7b68bb928"
      },
      "outputs": [
        {
          "data": {
            "text/html": [
              "<div>\n",
              "<style scoped>\n",
              "    .dataframe tbody tr th:only-of-type {\n",
              "        vertical-align: middle;\n",
              "    }\n",
              "\n",
              "    .dataframe tbody tr th {\n",
              "        vertical-align: top;\n",
              "    }\n",
              "\n",
              "    .dataframe thead th {\n",
              "        text-align: right;\n",
              "    }\n",
              "</style>\n",
              "<table border=\"1\" class=\"dataframe\">\n",
              "  <thead>\n",
              "    <tr style=\"text-align: right;\">\n",
              "      <th></th>\n",
              "      <th>office</th>\n",
              "      <th>salesperson</th>\n",
              "      <th>product</th>\n",
              "      <th>units</th>\n",
              "    </tr>\n",
              "  </thead>\n",
              "  <tbody>\n",
              "    <tr>\n",
              "      <th>28</th>\n",
              "      <td>Lisboa</td>\n",
              "      <td>l_sp1</td>\n",
              "      <td>P20</td>\n",
              "      <td>6</td>\n",
              "    </tr>\n",
              "    <tr>\n",
              "      <th>15</th>\n",
              "      <td>Valencia</td>\n",
              "      <td>v_sp1</td>\n",
              "      <td>P18</td>\n",
              "      <td>10</td>\n",
              "    </tr>\n",
              "  </tbody>\n",
              "</table>\n",
              "</div>"
            ],
            "text/plain": [
              "      office salesperson product  units\n",
              "28    Lisboa       l_sp1     P20      6\n",
              "15  Valencia       v_sp1     P18     10"
            ]
          },
          "execution_count": 21,
          "metadata": {},
          "output_type": "execute_result"
        }
      ],
      "source": [
        "df_sales.sample(2)"
      ]
    },
    {
      "cell_type": "markdown",
      "metadata": {
        "id": "8KcrzP_TI5sx"
      },
      "source": [
        "Another way of reading by handling the path and filename with variables"
      ]
    },
    {
      "cell_type": "code",
      "execution_count": null,
      "metadata": {
        "id": "q-fhvKVYI5sx",
        "outputId": "439f7c64-5cbb-4ff9-97ee-6e6258b655fa"
      },
      "outputs": [
        {
          "data": {
            "text/html": [
              "<div>\n",
              "<style scoped>\n",
              "    .dataframe tbody tr th:only-of-type {\n",
              "        vertical-align: middle;\n",
              "    }\n",
              "\n",
              "    .dataframe tbody tr th {\n",
              "        vertical-align: top;\n",
              "    }\n",
              "\n",
              "    .dataframe thead th {\n",
              "        text-align: right;\n",
              "    }\n",
              "</style>\n",
              "<table border=\"1\" class=\"dataframe\">\n",
              "  <thead>\n",
              "    <tr style=\"text-align: right;\">\n",
              "      <th></th>\n",
              "      <th>office</th>\n",
              "      <th>salesperson</th>\n",
              "      <th>product</th>\n",
              "      <th>units</th>\n",
              "    </tr>\n",
              "  </thead>\n",
              "  <tbody>\n",
              "    <tr>\n",
              "      <th>0</th>\n",
              "      <td>Madrid</td>\n",
              "      <td>m_sp1</td>\n",
              "      <td>P1</td>\n",
              "      <td>20</td>\n",
              "    </tr>\n",
              "    <tr>\n",
              "      <th>1</th>\n",
              "      <td>Madrid</td>\n",
              "      <td>m_sp1</td>\n",
              "      <td>P2</td>\n",
              "      <td>19</td>\n",
              "    </tr>\n",
              "    <tr>\n",
              "      <th>2</th>\n",
              "      <td>Madrid</td>\n",
              "      <td>m_sp1</td>\n",
              "      <td>P3</td>\n",
              "      <td>8</td>\n",
              "    </tr>\n",
              "    <tr>\n",
              "      <th>3</th>\n",
              "      <td>Madrid</td>\n",
              "      <td>m_sp1</td>\n",
              "      <td>P4</td>\n",
              "      <td>5</td>\n",
              "    </tr>\n",
              "    <tr>\n",
              "      <th>4</th>\n",
              "      <td>Madrid</td>\n",
              "      <td>m_sp1</td>\n",
              "      <td>P5</td>\n",
              "      <td>18</td>\n",
              "    </tr>\n",
              "    <tr>\n",
              "      <th>5</th>\n",
              "      <td>Madrid</td>\n",
              "      <td>m_sp4</td>\n",
              "      <td>P14</td>\n",
              "      <td>1</td>\n",
              "    </tr>\n",
              "    <tr>\n",
              "      <th>6</th>\n",
              "      <td>Madrid</td>\n",
              "      <td>m_sp4</td>\n",
              "      <td>P15</td>\n",
              "      <td>7</td>\n",
              "    </tr>\n",
              "    <tr>\n",
              "      <th>7</th>\n",
              "      <td>Valencia</td>\n",
              "      <td>v_sp1</td>\n",
              "      <td>P10</td>\n",
              "      <td>1</td>\n",
              "    </tr>\n",
              "    <tr>\n",
              "      <th>8</th>\n",
              "      <td>Valencia</td>\n",
              "      <td>v_sp1</td>\n",
              "      <td>P11</td>\n",
              "      <td>2</td>\n",
              "    </tr>\n",
              "    <tr>\n",
              "      <th>9</th>\n",
              "      <td>Valencia</td>\n",
              "      <td>v_sp1</td>\n",
              "      <td>P12</td>\n",
              "      <td>0</td>\n",
              "    </tr>\n",
              "  </tbody>\n",
              "</table>\n",
              "</div>"
            ],
            "text/plain": [
              "     office salesperson product  units\n",
              "0    Madrid       m_sp1      P1     20\n",
              "1    Madrid       m_sp1      P2     19\n",
              "2    Madrid       m_sp1      P3      8\n",
              "3    Madrid       m_sp1      P4      5\n",
              "4    Madrid       m_sp1      P5     18\n",
              "5    Madrid       m_sp4     P14      1\n",
              "6    Madrid       m_sp4     P15      7\n",
              "7  Valencia       v_sp1     P10      1\n",
              "8  Valencia       v_sp1     P11      2\n",
              "9  Valencia       v_sp1     P12      0"
            ]
          },
          "execution_count": 24,
          "metadata": {},
          "output_type": "execute_result"
        }
      ],
      "source": [
        "filepath = \"files\\\\\"\n",
        "filename = \"f_sales1.txt\"\n",
        "df_sales = pd.read_csv(filepath+filename, sep=';', header='infer')\n",
        "df_sales.head(10)"
      ]
    },
    {
      "cell_type": "markdown",
      "metadata": {
        "id": "k6DTFbCRI5sx"
      },
      "source": [
        "Working with decimals in file reading"
      ]
    },
    {
      "cell_type": "code",
      "execution_count": null,
      "metadata": {
        "id": "7-NQh_ruI5sx",
        "outputId": "c548969a-53c6-4062-eb00-a59956f8875d"
      },
      "outputs": [
        {
          "data": {
            "text/html": [
              "<div>\n",
              "<style scoped>\n",
              "    .dataframe tbody tr th:only-of-type {\n",
              "        vertical-align: middle;\n",
              "    }\n",
              "\n",
              "    .dataframe tbody tr th {\n",
              "        vertical-align: top;\n",
              "    }\n",
              "\n",
              "    .dataframe thead th {\n",
              "        text-align: right;\n",
              "    }\n",
              "</style>\n",
              "<table border=\"1\" class=\"dataframe\">\n",
              "  <thead>\n",
              "    <tr style=\"text-align: right;\">\n",
              "      <th></th>\n",
              "      <th>office</th>\n",
              "      <th>salesperson</th>\n",
              "      <th>product</th>\n",
              "      <th>sales_amount</th>\n",
              "    </tr>\n",
              "  </thead>\n",
              "  <tbody>\n",
              "    <tr>\n",
              "      <th>0</th>\n",
              "      <td>Madrid</td>\n",
              "      <td>m_vendedor1</td>\n",
              "      <td>P1</td>\n",
              "      <td>20.30</td>\n",
              "    </tr>\n",
              "    <tr>\n",
              "      <th>1</th>\n",
              "      <td>Madrid</td>\n",
              "      <td>m_vendedor1</td>\n",
              "      <td>P2</td>\n",
              "      <td>19.10</td>\n",
              "    </tr>\n",
              "    <tr>\n",
              "      <th>2</th>\n",
              "      <td>Madrid</td>\n",
              "      <td>m_vendedor1</td>\n",
              "      <td>P3</td>\n",
              "      <td>8.30</td>\n",
              "    </tr>\n",
              "    <tr>\n",
              "      <th>3</th>\n",
              "      <td>Madrid</td>\n",
              "      <td>m_vendedor1</td>\n",
              "      <td>P4</td>\n",
              "      <td>5.30</td>\n",
              "    </tr>\n",
              "    <tr>\n",
              "      <th>4</th>\n",
              "      <td>Madrid</td>\n",
              "      <td>m_vendedor1</td>\n",
              "      <td>P5</td>\n",
              "      <td>18.34</td>\n",
              "    </tr>\n",
              "    <tr>\n",
              "      <th>5</th>\n",
              "      <td>Madrid</td>\n",
              "      <td>m_vendedor4</td>\n",
              "      <td>P14</td>\n",
              "      <td>1.04</td>\n",
              "    </tr>\n",
              "    <tr>\n",
              "      <th>6</th>\n",
              "      <td>Madrid</td>\n",
              "      <td>m_vendedor4</td>\n",
              "      <td>P15</td>\n",
              "      <td>7.03</td>\n",
              "    </tr>\n",
              "    <tr>\n",
              "      <th>7</th>\n",
              "      <td>Valencia</td>\n",
              "      <td>v_vendedor1</td>\n",
              "      <td>P10</td>\n",
              "      <td>10.30</td>\n",
              "    </tr>\n",
              "    <tr>\n",
              "      <th>8</th>\n",
              "      <td>Valencia</td>\n",
              "      <td>v_vendedor1</td>\n",
              "      <td>P11</td>\n",
              "      <td>20.50</td>\n",
              "    </tr>\n",
              "    <tr>\n",
              "      <th>9</th>\n",
              "      <td>Valencia</td>\n",
              "      <td>v_vendedor1</td>\n",
              "      <td>P12</td>\n",
              "      <td>8.60</td>\n",
              "    </tr>\n",
              "  </tbody>\n",
              "</table>\n",
              "</div>"
            ],
            "text/plain": [
              "     office  salesperson product  sales_amount\n",
              "0    Madrid  m_vendedor1      P1         20.30\n",
              "1    Madrid  m_vendedor1      P2         19.10\n",
              "2    Madrid  m_vendedor1      P3          8.30\n",
              "3    Madrid  m_vendedor1      P4          5.30\n",
              "4    Madrid  m_vendedor1      P5         18.34\n",
              "5    Madrid  m_vendedor4     P14          1.04\n",
              "6    Madrid  m_vendedor4     P15          7.03\n",
              "7  Valencia  v_vendedor1     P10         10.30\n",
              "8  Valencia  v_vendedor1     P11         20.50\n",
              "9  Valencia  v_vendedor1     P12          8.60"
            ]
          },
          "execution_count": 25,
          "metadata": {},
          "output_type": "execute_result"
        }
      ],
      "source": [
        "# In this file the decimal separator is .\n",
        "df_sal = pd.read_csv(\"files\\\\f_sales_dec1.txt\",\n",
        "                 sep=';', header='infer')\n",
        "df_sal.head(10)"
      ]
    },
    {
      "cell_type": "code",
      "execution_count": null,
      "metadata": {
        "id": "IEUgo84ZI5s2",
        "outputId": "744c6a84-0595-4ee9-8de9-82422d3cd257"
      },
      "outputs": [
        {
          "data": {
            "text/plain": [
              "office           object\n",
              "salesperson      object\n",
              "product          object\n",
              "sales_amount    float64\n",
              "dtype: object"
            ]
          },
          "execution_count": 26,
          "metadata": {},
          "output_type": "execute_result"
        }
      ],
      "source": [
        "df_sal.dtypes"
      ]
    },
    {
      "cell_type": "code",
      "execution_count": null,
      "metadata": {
        "id": "_Old8p0WI5s3",
        "outputId": "4553a0eb-bba5-4b57-f94b-ed6744f3a2e6"
      },
      "outputs": [
        {
          "data": {
            "text/html": [
              "<div>\n",
              "<style scoped>\n",
              "    .dataframe tbody tr th:only-of-type {\n",
              "        vertical-align: middle;\n",
              "    }\n",
              "\n",
              "    .dataframe tbody tr th {\n",
              "        vertical-align: top;\n",
              "    }\n",
              "\n",
              "    .dataframe thead th {\n",
              "        text-align: right;\n",
              "    }\n",
              "</style>\n",
              "<table border=\"1\" class=\"dataframe\">\n",
              "  <thead>\n",
              "    <tr style=\"text-align: right;\">\n",
              "      <th></th>\n",
              "      <th>office</th>\n",
              "      <th>salesperson</th>\n",
              "      <th>product</th>\n",
              "      <th>sales_amount</th>\n",
              "    </tr>\n",
              "  </thead>\n",
              "  <tbody>\n",
              "    <tr>\n",
              "      <th>0</th>\n",
              "      <td>Madrid</td>\n",
              "      <td>m_vendedor1</td>\n",
              "      <td>P1</td>\n",
              "      <td>20.30</td>\n",
              "    </tr>\n",
              "    <tr>\n",
              "      <th>1</th>\n",
              "      <td>Madrid</td>\n",
              "      <td>m_vendedor1</td>\n",
              "      <td>P2</td>\n",
              "      <td>19.10</td>\n",
              "    </tr>\n",
              "    <tr>\n",
              "      <th>2</th>\n",
              "      <td>Madrid</td>\n",
              "      <td>m_vendedor1</td>\n",
              "      <td>P3</td>\n",
              "      <td>8.30</td>\n",
              "    </tr>\n",
              "    <tr>\n",
              "      <th>3</th>\n",
              "      <td>Madrid</td>\n",
              "      <td>m_vendedor1</td>\n",
              "      <td>P4</td>\n",
              "      <td>5.30</td>\n",
              "    </tr>\n",
              "    <tr>\n",
              "      <th>4</th>\n",
              "      <td>Madrid</td>\n",
              "      <td>m_vendedor1</td>\n",
              "      <td>P5</td>\n",
              "      <td>18.34</td>\n",
              "    </tr>\n",
              "    <tr>\n",
              "      <th>5</th>\n",
              "      <td>Madrid</td>\n",
              "      <td>m_vendedor4</td>\n",
              "      <td>P14</td>\n",
              "      <td>1.04</td>\n",
              "    </tr>\n",
              "    <tr>\n",
              "      <th>6</th>\n",
              "      <td>Madrid</td>\n",
              "      <td>m_vendedor4</td>\n",
              "      <td>P15</td>\n",
              "      <td>7.03</td>\n",
              "    </tr>\n",
              "    <tr>\n",
              "      <th>7</th>\n",
              "      <td>Valencia</td>\n",
              "      <td>v_vendedor1</td>\n",
              "      <td>P10</td>\n",
              "      <td>10.30</td>\n",
              "    </tr>\n",
              "    <tr>\n",
              "      <th>8</th>\n",
              "      <td>Valencia</td>\n",
              "      <td>v_vendedor1</td>\n",
              "      <td>P11</td>\n",
              "      <td>20.50</td>\n",
              "    </tr>\n",
              "    <tr>\n",
              "      <th>9</th>\n",
              "      <td>Valencia</td>\n",
              "      <td>v_vendedor1</td>\n",
              "      <td>P12</td>\n",
              "      <td>8.60</td>\n",
              "    </tr>\n",
              "  </tbody>\n",
              "</table>\n",
              "</div>"
            ],
            "text/plain": [
              "     office  salesperson product  sales_amount\n",
              "0    Madrid  m_vendedor1      P1         20.30\n",
              "1    Madrid  m_vendedor1      P2         19.10\n",
              "2    Madrid  m_vendedor1      P3          8.30\n",
              "3    Madrid  m_vendedor1      P4          5.30\n",
              "4    Madrid  m_vendedor1      P5         18.34\n",
              "5    Madrid  m_vendedor4     P14          1.04\n",
              "6    Madrid  m_vendedor4     P15          7.03\n",
              "7  Valencia  v_vendedor1     P10         10.30\n",
              "8  Valencia  v_vendedor1     P11         20.50\n",
              "9  Valencia  v_vendedor1     P12          8.60"
            ]
          },
          "execution_count": 27,
          "metadata": {},
          "output_type": "execute_result"
        }
      ],
      "source": [
        "# In this file the decimal separator is , This must be specified as a read option\n",
        "df_sal = pd.read_csv(\"files\\\\f_sales_dec2.txt\",\n",
        "                 sep=';', header='infer', decimal=\",\")\n",
        "df_sal.head(10)"
      ]
    },
    {
      "cell_type": "code",
      "execution_count": null,
      "metadata": {
        "id": "z4VetG-FI5s3",
        "outputId": "d21e34f0-e3f4-4b3a-e52f-3103a9ec2c6a"
      },
      "outputs": [
        {
          "data": {
            "text/plain": [
              "oficina      object\n",
              "vendedor     object\n",
              "producto     object\n",
              "ventas      float64\n",
              "dtype: object"
            ]
          },
          "execution_count": 27,
          "metadata": {},
          "output_type": "execute_result"
        }
      ],
      "source": [
        "df_sal.dtypes"
      ]
    },
    {
      "cell_type": "markdown",
      "metadata": {
        "id": "WahSowRkI5s3"
      },
      "source": [
        "Reading from Excel file"
      ]
    },
    {
      "cell_type": "code",
      "execution_count": null,
      "metadata": {
        "id": "O2ams1KpI5s3",
        "outputId": "aa4a6a1e-4178-4c16-d18b-c886a3922f5f"
      },
      "outputs": [
        {
          "data": {
            "text/html": [
              "<div>\n",
              "<style scoped>\n",
              "    .dataframe tbody tr th:only-of-type {\n",
              "        vertical-align: middle;\n",
              "    }\n",
              "\n",
              "    .dataframe tbody tr th {\n",
              "        vertical-align: top;\n",
              "    }\n",
              "\n",
              "    .dataframe thead th {\n",
              "        text-align: right;\n",
              "    }\n",
              "</style>\n",
              "<table border=\"1\" class=\"dataframe\">\n",
              "  <thead>\n",
              "    <tr style=\"text-align: right;\">\n",
              "      <th></th>\n",
              "      <th>office</th>\n",
              "      <th>salesperson</th>\n",
              "      <th>product</th>\n",
              "      <th>units</th>\n",
              "    </tr>\n",
              "  </thead>\n",
              "  <tbody>\n",
              "    <tr>\n",
              "      <th>0</th>\n",
              "      <td>Madrid</td>\n",
              "      <td>m_sp1</td>\n",
              "      <td>P1</td>\n",
              "      <td>20</td>\n",
              "    </tr>\n",
              "    <tr>\n",
              "      <th>1</th>\n",
              "      <td>Madrid</td>\n",
              "      <td>m_sp1</td>\n",
              "      <td>P2</td>\n",
              "      <td>19</td>\n",
              "    </tr>\n",
              "    <tr>\n",
              "      <th>2</th>\n",
              "      <td>Madrid</td>\n",
              "      <td>m_sp1</td>\n",
              "      <td>P3</td>\n",
              "      <td>8</td>\n",
              "    </tr>\n",
              "    <tr>\n",
              "      <th>3</th>\n",
              "      <td>Madrid</td>\n",
              "      <td>m_sp1</td>\n",
              "      <td>P4</td>\n",
              "      <td>5</td>\n",
              "    </tr>\n",
              "    <tr>\n",
              "      <th>4</th>\n",
              "      <td>Madrid</td>\n",
              "      <td>m_sp1</td>\n",
              "      <td>P5</td>\n",
              "      <td>18</td>\n",
              "    </tr>\n",
              "    <tr>\n",
              "      <th>5</th>\n",
              "      <td>Madrid</td>\n",
              "      <td>m_sp4</td>\n",
              "      <td>P14</td>\n",
              "      <td>1</td>\n",
              "    </tr>\n",
              "    <tr>\n",
              "      <th>6</th>\n",
              "      <td>Madrid</td>\n",
              "      <td>m_sp4</td>\n",
              "      <td>P15</td>\n",
              "      <td>7</td>\n",
              "    </tr>\n",
              "    <tr>\n",
              "      <th>7</th>\n",
              "      <td>Valencia</td>\n",
              "      <td>v_sp1</td>\n",
              "      <td>P10</td>\n",
              "      <td>1</td>\n",
              "    </tr>\n",
              "    <tr>\n",
              "      <th>8</th>\n",
              "      <td>Valencia</td>\n",
              "      <td>v_sp1</td>\n",
              "      <td>P11</td>\n",
              "      <td>2</td>\n",
              "    </tr>\n",
              "    <tr>\n",
              "      <th>9</th>\n",
              "      <td>Valencia</td>\n",
              "      <td>v_sp1</td>\n",
              "      <td>P12</td>\n",
              "      <td>0</td>\n",
              "    </tr>\n",
              "  </tbody>\n",
              "</table>\n",
              "</div>"
            ],
            "text/plain": [
              "     office salesperson product  units\n",
              "0    Madrid       m_sp1      P1     20\n",
              "1    Madrid       m_sp1      P2     19\n",
              "2    Madrid       m_sp1      P3      8\n",
              "3    Madrid       m_sp1      P4      5\n",
              "4    Madrid       m_sp1      P5     18\n",
              "5    Madrid       m_sp4     P14      1\n",
              "6    Madrid       m_sp4     P15      7\n",
              "7  Valencia       v_sp1     P10      1\n",
              "8  Valencia       v_sp1     P11      2\n",
              "9  Valencia       v_sp1     P12      0"
            ]
          },
          "execution_count": 28,
          "metadata": {},
          "output_type": "execute_result"
        }
      ],
      "source": [
        "df_sales1 = pd.read_excel(\"files\\\\f_sales1.xlsx\")\n",
        "df_sales1.head(10)"
      ]
    },
    {
      "cell_type": "markdown",
      "metadata": {
        "id": "avAoxrUCI5s3"
      },
      "source": [
        "### Working with columns"
      ]
    },
    {
      "cell_type": "markdown",
      "metadata": {
        "id": "VHYb9isyI5s3"
      },
      "source": [
        "Access a column"
      ]
    },
    {
      "cell_type": "code",
      "execution_count": null,
      "metadata": {
        "id": "QkRYYa-yI5s3",
        "outputId": "f6acc9a7-3465-43a2-d9ae-10d0138bcc88"
      },
      "outputs": [
        {
          "name": "stdout",
          "output_type": "stream",
          "text": [
            "0    Jorge\n",
            "1     Luis\n",
            "2    Pilar\n",
            "3      Ana\n",
            "Name: name, dtype: object\n",
            "0    Jorge\n",
            "1     Luis\n",
            "2    Pilar\n",
            "3      Ana\n",
            "Name: name, dtype: object\n"
          ]
        }
      ],
      "source": [
        "# acceder a una columna:\n",
        "print(df_cus['name'])\n",
        "print(df_cus.name)"
      ]
    },
    {
      "cell_type": "markdown",
      "metadata": {
        "id": "mrOaVav5I5s3"
      },
      "source": [
        "Accessing a row"
      ]
    },
    {
      "cell_type": "code",
      "execution_count": null,
      "metadata": {
        "id": "bqSO2l1QI5s4",
        "outputId": "6903591f-e94e-4ab6-f6d8-b42388560714"
      },
      "outputs": [
        {
          "data": {
            "text/plain": [
              "'Jorge'"
            ]
          },
          "execution_count": 30,
          "metadata": {},
          "output_type": "execute_result"
        }
      ],
      "source": [
        "df_cus['name'][0]"
      ]
    },
    {
      "cell_type": "markdown",
      "metadata": {
        "id": "7O1WC5-BI5s4"
      },
      "source": [
        "Iterate a df with a loop"
      ]
    },
    {
      "cell_type": "code",
      "execution_count": null,
      "metadata": {
        "id": "1PPzrhXOI5s4",
        "outputId": "c2c790a9-da24-4e74-f382-365388bc7786"
      },
      "outputs": [
        {
          "name": "stdout",
          "output_type": "stream",
          "text": [
            "Jorge\n",
            "Luis\n",
            "Pilar\n",
            "Ana\n"
          ]
        }
      ],
      "source": [
        "nrows = len(df_cus)\n",
        "for i in range(nrows):\n",
        "    print(df_cus['name'][i])"
      ]
    },
    {
      "cell_type": "markdown",
      "metadata": {
        "id": "r4hC5j1HI5s4"
      },
      "source": [
        "__Ass__ new columns"
      ]
    },
    {
      "cell_type": "code",
      "execution_count": null,
      "metadata": {
        "id": "Jtt1AbSQI5s4",
        "outputId": "bded658f-5820-4274-fc56-b5dee0d3a3f3"
      },
      "outputs": [
        {
          "data": {
            "text/html": [
              "<div>\n",
              "<style scoped>\n",
              "    .dataframe tbody tr th:only-of-type {\n",
              "        vertical-align: middle;\n",
              "    }\n",
              "\n",
              "    .dataframe tbody tr th {\n",
              "        vertical-align: top;\n",
              "    }\n",
              "\n",
              "    .dataframe thead th {\n",
              "        text-align: right;\n",
              "    }\n",
              "</style>\n",
              "<table border=\"1\" class=\"dataframe\">\n",
              "  <thead>\n",
              "    <tr style=\"text-align: right;\">\n",
              "      <th></th>\n",
              "      <th>nombre</th>\n",
              "      <th>edad</th>\n",
              "      <th>ciudad</th>\n",
              "    </tr>\n",
              "  </thead>\n",
              "  <tbody>\n",
              "    <tr>\n",
              "      <th>0</th>\n",
              "      <td>Jorge</td>\n",
              "      <td>33</td>\n",
              "      <td>Lugo</td>\n",
              "    </tr>\n",
              "    <tr>\n",
              "      <th>1</th>\n",
              "      <td>Luis</td>\n",
              "      <td>25</td>\n",
              "      <td>Murcia</td>\n",
              "    </tr>\n",
              "    <tr>\n",
              "      <th>2</th>\n",
              "      <td>Pilar</td>\n",
              "      <td>44</td>\n",
              "      <td>León</td>\n",
              "    </tr>\n",
              "    <tr>\n",
              "      <th>3</th>\n",
              "      <td>Ana</td>\n",
              "      <td>37</td>\n",
              "      <td>Soria</td>\n",
              "    </tr>\n",
              "  </tbody>\n",
              "</table>\n",
              "</div>"
            ],
            "text/plain": [
              "  nombre  edad  ciudad\n",
              "0  Jorge    33    Lugo\n",
              "1   Luis    25  Murcia\n",
              "2  Pilar    44    León\n",
              "3    Ana    37   Soria"
            ]
          },
          "execution_count": 33,
          "metadata": {},
          "output_type": "execute_result"
        }
      ],
      "source": [
        "df_cus['city'] = \"Lugo\"\n",
        "df_cus['city'] = [\"Lugo\",\"Murcia\",\"León\", \"Soria\"]\n",
        "df_cus"
      ]
    },
    {
      "cell_type": "code",
      "execution_count": null,
      "metadata": {
        "id": "eLYf0-aII5s4",
        "outputId": "80c0b5f6-f0f9-4c11-9254-ed0255d2dc28"
      },
      "outputs": [
        {
          "data": {
            "text/html": [
              "<div>\n",
              "<style scoped>\n",
              "    .dataframe tbody tr th:only-of-type {\n",
              "        vertical-align: middle;\n",
              "    }\n",
              "\n",
              "    .dataframe tbody tr th {\n",
              "        vertical-align: top;\n",
              "    }\n",
              "\n",
              "    .dataframe thead th {\n",
              "        text-align: right;\n",
              "    }\n",
              "</style>\n",
              "<table border=\"1\" class=\"dataframe\">\n",
              "  <thead>\n",
              "    <tr style=\"text-align: right;\">\n",
              "      <th></th>\n",
              "      <th>name</th>\n",
              "      <th>age</th>\n",
              "      <th>city</th>\n",
              "      <th>revenue</th>\n",
              "      <th>costs</th>\n",
              "      <th>margin</th>\n",
              "      <th>dt</th>\n",
              "      <th>year</th>\n",
              "    </tr>\n",
              "  </thead>\n",
              "  <tbody>\n",
              "    <tr>\n",
              "      <th>0</th>\n",
              "      <td>Jorge</td>\n",
              "      <td>33</td>\n",
              "      <td>Valladolid</td>\n",
              "      <td>40</td>\n",
              "      <td>10</td>\n",
              "      <td>30</td>\n",
              "      <td>31012024</td>\n",
              "      <td>2024</td>\n",
              "    </tr>\n",
              "    <tr>\n",
              "      <th>1</th>\n",
              "      <td>Luis</td>\n",
              "      <td>25</td>\n",
              "      <td>Madrid</td>\n",
              "      <td>30</td>\n",
              "      <td>8</td>\n",
              "      <td>22</td>\n",
              "      <td>31012024</td>\n",
              "      <td>2024</td>\n",
              "    </tr>\n",
              "    <tr>\n",
              "      <th>2</th>\n",
              "      <td>Pilar</td>\n",
              "      <td>44</td>\n",
              "      <td>Zaragoza</td>\n",
              "      <td>35</td>\n",
              "      <td>11</td>\n",
              "      <td>24</td>\n",
              "      <td>31012024</td>\n",
              "      <td>2024</td>\n",
              "    </tr>\n",
              "    <tr>\n",
              "      <th>3</th>\n",
              "      <td>Ana</td>\n",
              "      <td>37</td>\n",
              "      <td>Cuenca</td>\n",
              "      <td>28</td>\n",
              "      <td>9</td>\n",
              "      <td>19</td>\n",
              "      <td>31012024</td>\n",
              "      <td>2024</td>\n",
              "    </tr>\n",
              "  </tbody>\n",
              "</table>\n",
              "</div>"
            ],
            "text/plain": [
              "    name  age        city  revenue  costs  margin        dt  year\n",
              "0  Jorge   33  Valladolid       40     10      30  31012024  2024\n",
              "1   Luis   25      Madrid       30      8      22  31012024  2024\n",
              "2  Pilar   44    Zaragoza       35     11      24  31012024  2024\n",
              "3    Ana   37      Cuenca       28      9      19  31012024  2024"
            ]
          },
          "execution_count": 32,
          "metadata": {},
          "output_type": "execute_result"
        }
      ],
      "source": [
        "df_cus['revenue'] = [40,30,35,28]\n",
        "df_cus['costs'] = [10,8,11,9]\n",
        "df_cus['margin'] = df_cus['revenue'] - df_cus['costs']\n",
        "df_cus['dt'] = '31012024'\n",
        "df_cus['year'] = df_cus['dt'].str[-4:]\n",
        "df_cus"
      ]
    },
    {
      "cell_type": "code",
      "execution_count": null,
      "metadata": {
        "scrolled": true,
        "id": "rfBc3sPTI5s5",
        "outputId": "0a07b839-95c7-4e78-e809-fc347d755921"
      },
      "outputs": [
        {
          "data": {
            "text/plain": [
              "name       object\n",
              "age         int64\n",
              "city       object\n",
              "revenue     int64\n",
              "costs       int64\n",
              "margin      int64\n",
              "dt         object\n",
              "year       object\n",
              "dtype: object"
            ]
          },
          "execution_count": 33,
          "metadata": {},
          "output_type": "execute_result"
        }
      ],
      "source": [
        "df_cus.dtypes"
      ]
    },
    {
      "cell_type": "markdown",
      "metadata": {
        "id": "5Z5NMEi_I5s5"
      },
      "source": [
        "Operations with dates"
      ]
    },
    {
      "cell_type": "code",
      "execution_count": null,
      "metadata": {
        "id": "MJmWNW5II5s5",
        "outputId": "da88fabd-5a29-4a5c-dcd7-eb19e6b72402"
      },
      "outputs": [
        {
          "data": {
            "text/plain": [
              "name               object\n",
              "age                 int64\n",
              "city               object\n",
              "revenue             int64\n",
              "costs               int64\n",
              "margin              int64\n",
              "dt         datetime64[ns]\n",
              "year               object\n",
              "dtype: object"
            ]
          },
          "execution_count": 34,
          "metadata": {},
          "output_type": "execute_result"
        }
      ],
      "source": [
        "df_cus['dt'] = pd.to_datetime(df_cus['dt'], format=\"%d%m%Y\") # paso de string a datetime\n",
        "df_cus.dtypes"
      ]
    },
    {
      "cell_type": "markdown",
      "metadata": {
        "id": "oHq3jRu9I5s5"
      },
      "source": [
        "If the format were 'yyyy-mm-dd' it could be transformed with the médtodo astype"
      ]
    },
    {
      "cell_type": "code",
      "execution_count": null,
      "metadata": {
        "id": "NLvrlup5I5s5",
        "outputId": "da7c1f35-f705-4a57-c66e-1b9e6fa280ea"
      },
      "outputs": [
        {
          "data": {
            "text/html": [
              "<div>\n",
              "<style scoped>\n",
              "    .dataframe tbody tr th:only-of-type {\n",
              "        vertical-align: middle;\n",
              "    }\n",
              "\n",
              "    .dataframe tbody tr th {\n",
              "        vertical-align: top;\n",
              "    }\n",
              "\n",
              "    .dataframe thead th {\n",
              "        text-align: right;\n",
              "    }\n",
              "</style>\n",
              "<table border=\"1\" class=\"dataframe\">\n",
              "  <thead>\n",
              "    <tr style=\"text-align: right;\">\n",
              "      <th></th>\n",
              "      <th>name</th>\n",
              "      <th>age</th>\n",
              "      <th>city</th>\n",
              "      <th>revenue</th>\n",
              "      <th>costs</th>\n",
              "      <th>margin</th>\n",
              "      <th>dt</th>\n",
              "      <th>year</th>\n",
              "      <th>dt_d</th>\n",
              "    </tr>\n",
              "  </thead>\n",
              "  <tbody>\n",
              "    <tr>\n",
              "      <th>0</th>\n",
              "      <td>Jorge</td>\n",
              "      <td>33</td>\n",
              "      <td>Valladolid</td>\n",
              "      <td>40</td>\n",
              "      <td>10</td>\n",
              "      <td>30</td>\n",
              "      <td>2024-01-31</td>\n",
              "      <td>2024</td>\n",
              "      <td>2024-02-15</td>\n",
              "    </tr>\n",
              "    <tr>\n",
              "      <th>1</th>\n",
              "      <td>Luis</td>\n",
              "      <td>25</td>\n",
              "      <td>Madrid</td>\n",
              "      <td>30</td>\n",
              "      <td>8</td>\n",
              "      <td>22</td>\n",
              "      <td>2024-01-31</td>\n",
              "      <td>2024</td>\n",
              "      <td>2024-02-15</td>\n",
              "    </tr>\n",
              "    <tr>\n",
              "      <th>2</th>\n",
              "      <td>Pilar</td>\n",
              "      <td>44</td>\n",
              "      <td>Zaragoza</td>\n",
              "      <td>35</td>\n",
              "      <td>11</td>\n",
              "      <td>24</td>\n",
              "      <td>2024-01-31</td>\n",
              "      <td>2024</td>\n",
              "      <td>2024-02-15</td>\n",
              "    </tr>\n",
              "    <tr>\n",
              "      <th>3</th>\n",
              "      <td>Ana</td>\n",
              "      <td>37</td>\n",
              "      <td>Cuenca</td>\n",
              "      <td>28</td>\n",
              "      <td>9</td>\n",
              "      <td>19</td>\n",
              "      <td>2024-01-31</td>\n",
              "      <td>2024</td>\n",
              "      <td>2024-02-15</td>\n",
              "    </tr>\n",
              "  </tbody>\n",
              "</table>\n",
              "</div>"
            ],
            "text/plain": [
              "    name  age        city  revenue  costs  margin         dt  year       dt_d\n",
              "0  Jorge   33  Valladolid       40     10      30 2024-01-31  2024 2024-02-15\n",
              "1   Luis   25      Madrid       30      8      22 2024-01-31  2024 2024-02-15\n",
              "2  Pilar   44    Zaragoza       35     11      24 2024-01-31  2024 2024-02-15\n",
              "3    Ana   37      Cuenca       28      9      19 2024-01-31  2024 2024-02-15"
            ]
          },
          "execution_count": 35,
          "metadata": {},
          "output_type": "execute_result"
        }
      ],
      "source": [
        "df_cus['dt_d'] = '2024-02-15'\n",
        "df_cus['dt_d'] = df_cus['dt_d'].astype('datetime64[ns]') # only valid in format 'yyyy-mm-dd'.\n",
        "df_cus"
      ]
    },
    {
      "cell_type": "code",
      "execution_count": null,
      "metadata": {
        "id": "D9A6gNgVI5s6",
        "outputId": "fe955a01-fdc8-4ede-e3ba-71d7c6783738"
      },
      "outputs": [
        {
          "data": {
            "text/html": [
              "<div>\n",
              "<style scoped>\n",
              "    .dataframe tbody tr th:only-of-type {\n",
              "        vertical-align: middle;\n",
              "    }\n",
              "\n",
              "    .dataframe tbody tr th {\n",
              "        vertical-align: top;\n",
              "    }\n",
              "\n",
              "    .dataframe thead th {\n",
              "        text-align: right;\n",
              "    }\n",
              "</style>\n",
              "<table border=\"1\" class=\"dataframe\">\n",
              "  <thead>\n",
              "    <tr style=\"text-align: right;\">\n",
              "      <th></th>\n",
              "      <th>name</th>\n",
              "      <th>age</th>\n",
              "      <th>city</th>\n",
              "      <th>revenue</th>\n",
              "      <th>costs</th>\n",
              "      <th>margin</th>\n",
              "      <th>dt</th>\n",
              "      <th>year</th>\n",
              "      <th>dt_d</th>\n",
              "      <th>dt2</th>\n",
              "    </tr>\n",
              "  </thead>\n",
              "  <tbody>\n",
              "    <tr>\n",
              "      <th>0</th>\n",
              "      <td>Jorge</td>\n",
              "      <td>33</td>\n",
              "      <td>Valladolid</td>\n",
              "      <td>40</td>\n",
              "      <td>10</td>\n",
              "      <td>30</td>\n",
              "      <td>2024-01-31</td>\n",
              "      <td>2024</td>\n",
              "      <td>2024-02-15</td>\n",
              "      <td>31/01/24</td>\n",
              "    </tr>\n",
              "    <tr>\n",
              "      <th>1</th>\n",
              "      <td>Luis</td>\n",
              "      <td>25</td>\n",
              "      <td>Madrid</td>\n",
              "      <td>30</td>\n",
              "      <td>8</td>\n",
              "      <td>22</td>\n",
              "      <td>2024-01-31</td>\n",
              "      <td>2024</td>\n",
              "      <td>2024-02-15</td>\n",
              "      <td>31/01/24</td>\n",
              "    </tr>\n",
              "    <tr>\n",
              "      <th>2</th>\n",
              "      <td>Pilar</td>\n",
              "      <td>44</td>\n",
              "      <td>Zaragoza</td>\n",
              "      <td>35</td>\n",
              "      <td>11</td>\n",
              "      <td>24</td>\n",
              "      <td>2024-01-31</td>\n",
              "      <td>2024</td>\n",
              "      <td>2024-02-15</td>\n",
              "      <td>31/01/24</td>\n",
              "    </tr>\n",
              "    <tr>\n",
              "      <th>3</th>\n",
              "      <td>Ana</td>\n",
              "      <td>37</td>\n",
              "      <td>Cuenca</td>\n",
              "      <td>28</td>\n",
              "      <td>9</td>\n",
              "      <td>19</td>\n",
              "      <td>2024-01-31</td>\n",
              "      <td>2024</td>\n",
              "      <td>2024-02-15</td>\n",
              "      <td>31/01/24</td>\n",
              "    </tr>\n",
              "  </tbody>\n",
              "</table>\n",
              "</div>"
            ],
            "text/plain": [
              "    name  age        city  revenue  costs  margin         dt  year       dt_d  \\\n",
              "0  Jorge   33  Valladolid       40     10      30 2024-01-31  2024 2024-02-15   \n",
              "1   Luis   25      Madrid       30      8      22 2024-01-31  2024 2024-02-15   \n",
              "2  Pilar   44    Zaragoza       35     11      24 2024-01-31  2024 2024-02-15   \n",
              "3    Ana   37      Cuenca       28      9      19 2024-01-31  2024 2024-02-15   \n",
              "\n",
              "        dt2  \n",
              "0  31/01/24  \n",
              "1  31/01/24  \n",
              "2  31/01/24  \n",
              "3  31/01/24  "
            ]
          },
          "execution_count": 37,
          "metadata": {},
          "output_type": "execute_result"
        }
      ],
      "source": [
        "df_cus['dt'] = pd.to_datetime(df_cus['dt'], format=\"%d%m%Y\") # string to datetime\n",
        "df_cus['dt2'] = df_cus['dt'].dt.strftime('%d/%m/%y') # datetime to string\n",
        "df_cus"
      ]
    },
    {
      "cell_type": "code",
      "execution_count": null,
      "metadata": {
        "id": "7Too7aBUI5s6"
      },
      "outputs": [],
      "source": [
        "df_cus['age_s1'] = df_cus['age'].astype('str')"
      ]
    },
    {
      "cell_type": "code",
      "execution_count": null,
      "metadata": {
        "id": "iHxi3_LrI5s6",
        "outputId": "a2db35ba-6c81-4115-9324-3a4271cc3ff2"
      },
      "outputs": [
        {
          "data": {
            "text/plain": [
              "(  nombre  edad  ciudad  ingresos  costes  margen        fec   año      fec_d  \\\n",
              " 0  Jorge    33    Lugo        40      10      30 2019-01-31  2019 2020-02-15   \n",
              " 1   Luis    25  Murcia        30       8      22 2019-01-31  2019 2020-02-15   \n",
              " 2  Pilar    44    León        35      11      24 2019-01-31  2019 2020-02-15   \n",
              " 3    Ana    37   Soria        28       9      19 2019-01-31  2019 2020-02-15   \n",
              " \n",
              "        fec2 edad_s1  \n",
              " 0  31/01/19      33  \n",
              " 1  31/01/19      25  \n",
              " 2  31/01/19      44  \n",
              " 3  31/01/19      37  ,\n",
              " nombre              object\n",
              " edad                 int64\n",
              " ciudad              object\n",
              " ingresos             int64\n",
              " costes               int64\n",
              " margen               int64\n",
              " fec         datetime64[ns]\n",
              " año                 object\n",
              " fec_d       datetime64[ns]\n",
              " fec2                object\n",
              " edad_s1             object\n",
              " dtype: object)"
            ]
          },
          "execution_count": 40,
          "metadata": {},
          "output_type": "execute_result"
        }
      ],
      "source": [
        "df_cus, df_cus.dtypes"
      ]
    },
    {
      "cell_type": "markdown",
      "metadata": {
        "id": "OnVEiml8I5s6"
      },
      "source": [
        "__Eliminar__ columna"
      ]
    },
    {
      "cell_type": "markdown",
      "metadata": {
        "id": "zgjr6BlJI5s6"
      },
      "source": [
        "Para acceder a métodos propios de string o datetime añadir .str o .dt"
      ]
    },
    {
      "cell_type": "code",
      "execution_count": null,
      "metadata": {
        "id": "IAoBvvY1I5s6",
        "outputId": "2f9373fb-3ac8-4e35-b2eb-3646df60c75c"
      },
      "outputs": [
        {
          "data": {
            "text/html": [
              "<div>\n",
              "<style scoped>\n",
              "    .dataframe tbody tr th:only-of-type {\n",
              "        vertical-align: middle;\n",
              "    }\n",
              "\n",
              "    .dataframe tbody tr th {\n",
              "        vertical-align: top;\n",
              "    }\n",
              "\n",
              "    .dataframe thead th {\n",
              "        text-align: right;\n",
              "    }\n",
              "</style>\n",
              "<table border=\"1\" class=\"dataframe\">\n",
              "  <thead>\n",
              "    <tr style=\"text-align: right;\">\n",
              "      <th></th>\n",
              "      <th>nombre</th>\n",
              "      <th>edad</th>\n",
              "      <th>ciudad</th>\n",
              "      <th>ingresos</th>\n",
              "      <th>costes</th>\n",
              "      <th>margen</th>\n",
              "      <th>fec</th>\n",
              "      <th>año</th>\n",
              "      <th>fec_d</th>\n",
              "      <th>fec2</th>\n",
              "      <th>edad_s1</th>\n",
              "      <th>lon_nombre</th>\n",
              "      <th>inicial</th>\n",
              "    </tr>\n",
              "  </thead>\n",
              "  <tbody>\n",
              "    <tr>\n",
              "      <th>0</th>\n",
              "      <td>JORGE</td>\n",
              "      <td>33</td>\n",
              "      <td>Lugo</td>\n",
              "      <td>40</td>\n",
              "      <td>10</td>\n",
              "      <td>30</td>\n",
              "      <td>2019-01-31</td>\n",
              "      <td>2019</td>\n",
              "      <td>2020-02-15</td>\n",
              "      <td>31/01/19</td>\n",
              "      <td>33</td>\n",
              "      <td>5</td>\n",
              "      <td>J</td>\n",
              "    </tr>\n",
              "    <tr>\n",
              "      <th>1</th>\n",
              "      <td>LUIS</td>\n",
              "      <td>25</td>\n",
              "      <td>Murcia</td>\n",
              "      <td>30</td>\n",
              "      <td>8</td>\n",
              "      <td>22</td>\n",
              "      <td>2019-01-31</td>\n",
              "      <td>2019</td>\n",
              "      <td>2020-02-15</td>\n",
              "      <td>31/01/19</td>\n",
              "      <td>25</td>\n",
              "      <td>4</td>\n",
              "      <td>L</td>\n",
              "    </tr>\n",
              "    <tr>\n",
              "      <th>2</th>\n",
              "      <td>PILAR</td>\n",
              "      <td>44</td>\n",
              "      <td>León</td>\n",
              "      <td>35</td>\n",
              "      <td>11</td>\n",
              "      <td>24</td>\n",
              "      <td>2019-01-31</td>\n",
              "      <td>2019</td>\n",
              "      <td>2020-02-15</td>\n",
              "      <td>31/01/19</td>\n",
              "      <td>44</td>\n",
              "      <td>5</td>\n",
              "      <td>P</td>\n",
              "    </tr>\n",
              "    <tr>\n",
              "      <th>3</th>\n",
              "      <td>ANA</td>\n",
              "      <td>37</td>\n",
              "      <td>Soria</td>\n",
              "      <td>28</td>\n",
              "      <td>9</td>\n",
              "      <td>19</td>\n",
              "      <td>2019-01-31</td>\n",
              "      <td>2019</td>\n",
              "      <td>2020-02-15</td>\n",
              "      <td>31/01/19</td>\n",
              "      <td>37</td>\n",
              "      <td>3</td>\n",
              "      <td>A</td>\n",
              "    </tr>\n",
              "  </tbody>\n",
              "</table>\n",
              "</div>"
            ],
            "text/plain": [
              "  nombre  edad  ciudad  ingresos  costes  margen        fec   año      fec_d  \\\n",
              "0  JORGE    33    Lugo        40      10      30 2019-01-31  2019 2020-02-15   \n",
              "1   LUIS    25  Murcia        30       8      22 2019-01-31  2019 2020-02-15   \n",
              "2  PILAR    44    León        35      11      24 2019-01-31  2019 2020-02-15   \n",
              "3    ANA    37   Soria        28       9      19 2019-01-31  2019 2020-02-15   \n",
              "\n",
              "       fec2 edad_s1  lon_nombre inicial  \n",
              "0  31/01/19      33           5       J  \n",
              "1  31/01/19      25           4       L  \n",
              "2  31/01/19      44           5       P  \n",
              "3  31/01/19      37           3       A  "
            ]
          },
          "execution_count": 41,
          "metadata": {},
          "output_type": "execute_result"
        }
      ],
      "source": [
        "df_cus['año'] = df_cus['fec'].dt.year\n",
        "df_cus['name'] = df_cus['name'].str.upper()\n",
        "df_cus['lon_name'] = df_cus['name'].str.len()\n",
        "df_cus['inicial'] = df_cus['name'].str[0:1]\n",
        "#df_cus['fec'].dt.month\n",
        "#df_cus['fec'].dt.day\n",
        "df_cus"
      ]
    },
    {
      "cell_type": "code",
      "execution_count": null,
      "metadata": {
        "id": "DQFjLo6LI5s7",
        "outputId": "42007a30-9435-46a1-aa82-57ac9017f482"
      },
      "outputs": [
        {
          "data": {
            "text/html": [
              "<div>\n",
              "<style scoped>\n",
              "    .dataframe tbody tr th:only-of-type {\n",
              "        vertical-align: middle;\n",
              "    }\n",
              "\n",
              "    .dataframe tbody tr th {\n",
              "        vertical-align: top;\n",
              "    }\n",
              "\n",
              "    .dataframe thead th {\n",
              "        text-align: right;\n",
              "    }\n",
              "</style>\n",
              "<table border=\"1\" class=\"dataframe\">\n",
              "  <thead>\n",
              "    <tr style=\"text-align: right;\">\n",
              "      <th></th>\n",
              "      <th>nombre</th>\n",
              "      <th>edad</th>\n",
              "      <th>ciudad</th>\n",
              "      <th>ingresos</th>\n",
              "      <th>costes</th>\n",
              "      <th>margen</th>\n",
              "      <th>fec</th>\n",
              "      <th>fec_d</th>\n",
              "      <th>fec2</th>\n",
              "      <th>edad_s1</th>\n",
              "      <th>lon_nombre</th>\n",
              "      <th>inicial</th>\n",
              "    </tr>\n",
              "  </thead>\n",
              "  <tbody>\n",
              "    <tr>\n",
              "      <th>0</th>\n",
              "      <td>JORGE</td>\n",
              "      <td>33</td>\n",
              "      <td>Lugo</td>\n",
              "      <td>40</td>\n",
              "      <td>10</td>\n",
              "      <td>30</td>\n",
              "      <td>2019-01-31</td>\n",
              "      <td>2020-02-15</td>\n",
              "      <td>31/01/19</td>\n",
              "      <td>33</td>\n",
              "      <td>5</td>\n",
              "      <td>J</td>\n",
              "    </tr>\n",
              "    <tr>\n",
              "      <th>1</th>\n",
              "      <td>LUIS</td>\n",
              "      <td>25</td>\n",
              "      <td>Murcia</td>\n",
              "      <td>30</td>\n",
              "      <td>8</td>\n",
              "      <td>22</td>\n",
              "      <td>2019-01-31</td>\n",
              "      <td>2020-02-15</td>\n",
              "      <td>31/01/19</td>\n",
              "      <td>25</td>\n",
              "      <td>4</td>\n",
              "      <td>L</td>\n",
              "    </tr>\n",
              "    <tr>\n",
              "      <th>2</th>\n",
              "      <td>PILAR</td>\n",
              "      <td>44</td>\n",
              "      <td>León</td>\n",
              "      <td>35</td>\n",
              "      <td>11</td>\n",
              "      <td>24</td>\n",
              "      <td>2019-01-31</td>\n",
              "      <td>2020-02-15</td>\n",
              "      <td>31/01/19</td>\n",
              "      <td>44</td>\n",
              "      <td>5</td>\n",
              "      <td>P</td>\n",
              "    </tr>\n",
              "    <tr>\n",
              "      <th>3</th>\n",
              "      <td>ANA</td>\n",
              "      <td>37</td>\n",
              "      <td>Soria</td>\n",
              "      <td>28</td>\n",
              "      <td>9</td>\n",
              "      <td>19</td>\n",
              "      <td>2019-01-31</td>\n",
              "      <td>2020-02-15</td>\n",
              "      <td>31/01/19</td>\n",
              "      <td>37</td>\n",
              "      <td>3</td>\n",
              "      <td>A</td>\n",
              "    </tr>\n",
              "  </tbody>\n",
              "</table>\n",
              "</div>"
            ],
            "text/plain": [
              "  nombre  edad  ciudad  ingresos  costes  margen        fec      fec_d  \\\n",
              "0  JORGE    33    Lugo        40      10      30 2019-01-31 2020-02-15   \n",
              "1   LUIS    25  Murcia        30       8      22 2019-01-31 2020-02-15   \n",
              "2  PILAR    44    León        35      11      24 2019-01-31 2020-02-15   \n",
              "3    ANA    37   Soria        28       9      19 2019-01-31 2020-02-15   \n",
              "\n",
              "       fec2 edad_s1  lon_nombre inicial  \n",
              "0  31/01/19      33           5       J  \n",
              "1  31/01/19      25           4       L  \n",
              "2  31/01/19      44           5       P  \n",
              "3  31/01/19      37           3       A  "
            ]
          },
          "execution_count": 42,
          "metadata": {},
          "output_type": "execute_result"
        }
      ],
      "source": [
        "#eliminar columna\n",
        "del df_cus['año']\n",
        "#df_cus = df_cus.drop('año', 1)\n",
        "df_cus"
      ]
    },
    {
      "cell_type": "markdown",
      "metadata": {
        "id": "BUdUIqM1I5s7"
      },
      "source": [
        "Data type conversion"
      ]
    },
    {
      "cell_type": "code",
      "execution_count": null,
      "metadata": {
        "id": "mmmgZU27I5s7",
        "outputId": "16a5d053-3cd0-4138-d2f8-8976d352e48a"
      },
      "outputs": [
        {
          "data": {
            "text/plain": [
              "name               object\n",
              "age                 int64\n",
              "city               object\n",
              "revenue             int64\n",
              "costs               int64\n",
              "margin              int64\n",
              "dt         datetime64[ns]\n",
              "year               object\n",
              "dt_d       datetime64[ns]\n",
              "dt2                object\n",
              "dtype: object"
            ]
          },
          "execution_count": 38,
          "metadata": {},
          "output_type": "execute_result"
        }
      ],
      "source": [
        "df_cus.dtypes"
      ]
    },
    {
      "cell_type": "code",
      "execution_count": null,
      "metadata": {
        "id": "n5O6d-zUI5s7",
        "outputId": "292f3d17-7b2d-421b-c8c6-d365224579ee"
      },
      "outputs": [
        {
          "data": {
            "text/plain": [
              "name               object\n",
              "age                 int64\n",
              "city               object\n",
              "revenue             int64\n",
              "costs               int64\n",
              "margin              int64\n",
              "dt         datetime64[ns]\n",
              "year               object\n",
              "dt_d       datetime64[ns]\n",
              "dt2                object\n",
              "age_s              object\n",
              "dtype: object"
            ]
          },
          "execution_count": 39,
          "metadata": {},
          "output_type": "execute_result"
        }
      ],
      "source": [
        "df_cus['age_s']=df_cus['age'].astype('str')\n",
        "df_cus.dtypes"
      ]
    },
    {
      "cell_type": "markdown",
      "metadata": {
        "id": "_dWSXqVgI5s7"
      },
      "source": [
        "Apply __transformations__ in pandas with __functions__."
      ]
    },
    {
      "cell_type": "code",
      "execution_count": null,
      "metadata": {
        "id": "S6gBxovqI5s7"
      },
      "outputs": [],
      "source": [
        "# Apply function to apply transformations calling to functions\n",
        "def level(val):\n",
        "    if val <= 10:\n",
        "        level='low'\n",
        "    elif val > 10 and val <= 25:\n",
        "        level = 'medium'\n",
        "    else:\n",
        "        level='high'\n",
        "    return(level)\n",
        "\n",
        "df_cus['rango_margin']=df_cus['margin'].apply(level)"
      ]
    },
    {
      "cell_type": "code",
      "execution_count": null,
      "metadata": {
        "id": "z-BgwrBVI5s8",
        "outputId": "c03f1620-923d-4933-fcfb-a5eceb502d32"
      },
      "outputs": [
        {
          "data": {
            "text/html": [
              "<div>\n",
              "<style scoped>\n",
              "    .dataframe tbody tr th:only-of-type {\n",
              "        vertical-align: middle;\n",
              "    }\n",
              "\n",
              "    .dataframe tbody tr th {\n",
              "        vertical-align: top;\n",
              "    }\n",
              "\n",
              "    .dataframe thead th {\n",
              "        text-align: right;\n",
              "    }\n",
              "</style>\n",
              "<table border=\"1\" class=\"dataframe\">\n",
              "  <thead>\n",
              "    <tr style=\"text-align: right;\">\n",
              "      <th></th>\n",
              "      <th>name</th>\n",
              "      <th>age</th>\n",
              "      <th>city</th>\n",
              "      <th>revenue</th>\n",
              "      <th>costs</th>\n",
              "      <th>margin</th>\n",
              "      <th>dt</th>\n",
              "      <th>year</th>\n",
              "      <th>dt_d</th>\n",
              "      <th>dt2</th>\n",
              "      <th>age_s</th>\n",
              "      <th>rango_margin</th>\n",
              "    </tr>\n",
              "  </thead>\n",
              "  <tbody>\n",
              "    <tr>\n",
              "      <th>0</th>\n",
              "      <td>Jorge</td>\n",
              "      <td>33</td>\n",
              "      <td>Valladolid</td>\n",
              "      <td>40</td>\n",
              "      <td>10</td>\n",
              "      <td>30</td>\n",
              "      <td>2024-01-31</td>\n",
              "      <td>2024</td>\n",
              "      <td>2024-02-15</td>\n",
              "      <td>31/01/24</td>\n",
              "      <td>33</td>\n",
              "      <td>high</td>\n",
              "    </tr>\n",
              "    <tr>\n",
              "      <th>1</th>\n",
              "      <td>Luis</td>\n",
              "      <td>25</td>\n",
              "      <td>Madrid</td>\n",
              "      <td>30</td>\n",
              "      <td>8</td>\n",
              "      <td>22</td>\n",
              "      <td>2024-01-31</td>\n",
              "      <td>2024</td>\n",
              "      <td>2024-02-15</td>\n",
              "      <td>31/01/24</td>\n",
              "      <td>25</td>\n",
              "      <td>medium</td>\n",
              "    </tr>\n",
              "    <tr>\n",
              "      <th>2</th>\n",
              "      <td>Pilar</td>\n",
              "      <td>44</td>\n",
              "      <td>Zaragoza</td>\n",
              "      <td>35</td>\n",
              "      <td>11</td>\n",
              "      <td>24</td>\n",
              "      <td>2024-01-31</td>\n",
              "      <td>2024</td>\n",
              "      <td>2024-02-15</td>\n",
              "      <td>31/01/24</td>\n",
              "      <td>44</td>\n",
              "      <td>medium</td>\n",
              "    </tr>\n",
              "    <tr>\n",
              "      <th>3</th>\n",
              "      <td>Ana</td>\n",
              "      <td>37</td>\n",
              "      <td>Cuenca</td>\n",
              "      <td>28</td>\n",
              "      <td>9</td>\n",
              "      <td>19</td>\n",
              "      <td>2024-01-31</td>\n",
              "      <td>2024</td>\n",
              "      <td>2024-02-15</td>\n",
              "      <td>31/01/24</td>\n",
              "      <td>37</td>\n",
              "      <td>medium</td>\n",
              "    </tr>\n",
              "  </tbody>\n",
              "</table>\n",
              "</div>"
            ],
            "text/plain": [
              "    name  age        city  revenue  costs  margin         dt  year       dt_d  \\\n",
              "0  Jorge   33  Valladolid       40     10      30 2024-01-31  2024 2024-02-15   \n",
              "1   Luis   25      Madrid       30      8      22 2024-01-31  2024 2024-02-15   \n",
              "2  Pilar   44    Zaragoza       35     11      24 2024-01-31  2024 2024-02-15   \n",
              "3    Ana   37      Cuenca       28      9      19 2024-01-31  2024 2024-02-15   \n",
              "\n",
              "        dt2 age_s rango_margin  \n",
              "0  31/01/24    33         high  \n",
              "1  31/01/24    25       medium  \n",
              "2  31/01/24    44       medium  \n",
              "3  31/01/24    37       medium  "
            ]
          },
          "execution_count": 42,
          "metadata": {},
          "output_type": "execute_result"
        }
      ],
      "source": [
        "df_cus"
      ]
    },
    {
      "cell_type": "markdown",
      "metadata": {
        "id": "ahQB9koQI5s8"
      },
      "source": [
        "Same operations, but with Lambda function"
      ]
    },
    {
      "cell_type": "code",
      "execution_count": null,
      "metadata": {
        "id": "16BLMTFNI5s8"
      },
      "outputs": [],
      "source": [
        "f = lambda x : 'high' if x >= 25 else 'low'\n",
        "\n",
        "df_cus['rango_margin']=df_cus['margin'].apply(f)\n",
        "df_cus['rango_margin3']=df_cus['margin'].apply(lambda x: 'high' if x >= 25 else 'low' )"
      ]
    },
    {
      "cell_type": "code",
      "execution_count": null,
      "metadata": {
        "id": "6mUWatnAI5s8",
        "outputId": "0f2170c2-3c14-415f-87ad-0c71d722d8aa"
      },
      "outputs": [
        {
          "data": {
            "text/html": [
              "<div>\n",
              "<style scoped>\n",
              "    .dataframe tbody tr th:only-of-type {\n",
              "        vertical-align: middle;\n",
              "    }\n",
              "\n",
              "    .dataframe tbody tr th {\n",
              "        vertical-align: top;\n",
              "    }\n",
              "\n",
              "    .dataframe thead th {\n",
              "        text-align: right;\n",
              "    }\n",
              "</style>\n",
              "<table border=\"1\" class=\"dataframe\">\n",
              "  <thead>\n",
              "    <tr style=\"text-align: right;\">\n",
              "      <th></th>\n",
              "      <th>name</th>\n",
              "      <th>age</th>\n",
              "      <th>city</th>\n",
              "      <th>revenue</th>\n",
              "      <th>costs</th>\n",
              "      <th>margin</th>\n",
              "      <th>dt</th>\n",
              "      <th>year</th>\n",
              "      <th>dt_d</th>\n",
              "      <th>dt2</th>\n",
              "      <th>age_s</th>\n",
              "      <th>rango_margin</th>\n",
              "      <th>rango_margin3</th>\n",
              "    </tr>\n",
              "  </thead>\n",
              "  <tbody>\n",
              "    <tr>\n",
              "      <th>0</th>\n",
              "      <td>Jorge</td>\n",
              "      <td>33</td>\n",
              "      <td>Valladolid</td>\n",
              "      <td>40</td>\n",
              "      <td>10</td>\n",
              "      <td>30</td>\n",
              "      <td>2024-01-31</td>\n",
              "      <td>2024</td>\n",
              "      <td>2024-02-15</td>\n",
              "      <td>31/01/24</td>\n",
              "      <td>33</td>\n",
              "      <td>high</td>\n",
              "      <td>high</td>\n",
              "    </tr>\n",
              "    <tr>\n",
              "      <th>1</th>\n",
              "      <td>Luis</td>\n",
              "      <td>25</td>\n",
              "      <td>Madrid</td>\n",
              "      <td>30</td>\n",
              "      <td>8</td>\n",
              "      <td>22</td>\n",
              "      <td>2024-01-31</td>\n",
              "      <td>2024</td>\n",
              "      <td>2024-02-15</td>\n",
              "      <td>31/01/24</td>\n",
              "      <td>25</td>\n",
              "      <td>low</td>\n",
              "      <td>low</td>\n",
              "    </tr>\n",
              "    <tr>\n",
              "      <th>2</th>\n",
              "      <td>Pilar</td>\n",
              "      <td>44</td>\n",
              "      <td>Zaragoza</td>\n",
              "      <td>35</td>\n",
              "      <td>11</td>\n",
              "      <td>24</td>\n",
              "      <td>2024-01-31</td>\n",
              "      <td>2024</td>\n",
              "      <td>2024-02-15</td>\n",
              "      <td>31/01/24</td>\n",
              "      <td>44</td>\n",
              "      <td>low</td>\n",
              "      <td>low</td>\n",
              "    </tr>\n",
              "    <tr>\n",
              "      <th>3</th>\n",
              "      <td>Ana</td>\n",
              "      <td>37</td>\n",
              "      <td>Cuenca</td>\n",
              "      <td>28</td>\n",
              "      <td>9</td>\n",
              "      <td>19</td>\n",
              "      <td>2024-01-31</td>\n",
              "      <td>2024</td>\n",
              "      <td>2024-02-15</td>\n",
              "      <td>31/01/24</td>\n",
              "      <td>37</td>\n",
              "      <td>low</td>\n",
              "      <td>low</td>\n",
              "    </tr>\n",
              "  </tbody>\n",
              "</table>\n",
              "</div>"
            ],
            "text/plain": [
              "    name  age        city  revenue  costs  margin         dt  year       dt_d  \\\n",
              "0  Jorge   33  Valladolid       40     10      30 2024-01-31  2024 2024-02-15   \n",
              "1   Luis   25      Madrid       30      8      22 2024-01-31  2024 2024-02-15   \n",
              "2  Pilar   44    Zaragoza       35     11      24 2024-01-31  2024 2024-02-15   \n",
              "3    Ana   37      Cuenca       28      9      19 2024-01-31  2024 2024-02-15   \n",
              "\n",
              "        dt2 age_s rango_margin rango_margin3  \n",
              "0  31/01/24    33         high          high  \n",
              "1  31/01/24    25          low           low  \n",
              "2  31/01/24    44          low           low  \n",
              "3  31/01/24    37          low           low  "
            ]
          },
          "execution_count": 44,
          "metadata": {},
          "output_type": "execute_result"
        }
      ],
      "source": [
        "df_cus"
      ]
    },
    {
      "cell_type": "markdown",
      "metadata": {
        "id": "DywyhKeiI5s8"
      },
      "source": [
        "It can also be done with __map__ ( apply acts at row level and map at column level and is better in terms of performance)."
      ]
    },
    {
      "cell_type": "code",
      "execution_count": null,
      "metadata": {
        "id": "vYKJBjgYI5s8",
        "outputId": "5295c24c-8e83-410e-dddb-1838210dde01"
      },
      "outputs": [
        {
          "data": {
            "text/html": [
              "<div>\n",
              "<style scoped>\n",
              "    .dataframe tbody tr th:only-of-type {\n",
              "        vertical-align: middle;\n",
              "    }\n",
              "\n",
              "    .dataframe tbody tr th {\n",
              "        vertical-align: top;\n",
              "    }\n",
              "\n",
              "    .dataframe thead th {\n",
              "        text-align: right;\n",
              "    }\n",
              "</style>\n",
              "<table border=\"1\" class=\"dataframe\">\n",
              "  <thead>\n",
              "    <tr style=\"text-align: right;\">\n",
              "      <th></th>\n",
              "      <th>name</th>\n",
              "      <th>age</th>\n",
              "      <th>city</th>\n",
              "      <th>revenue</th>\n",
              "      <th>costs</th>\n",
              "      <th>margin</th>\n",
              "      <th>dt</th>\n",
              "      <th>year</th>\n",
              "      <th>dt_d</th>\n",
              "      <th>dt2</th>\n",
              "      <th>age_s</th>\n",
              "      <th>rango_margin</th>\n",
              "      <th>rango_margin3</th>\n",
              "      <th>rango_margin4</th>\n",
              "    </tr>\n",
              "  </thead>\n",
              "  <tbody>\n",
              "    <tr>\n",
              "      <th>0</th>\n",
              "      <td>Jorge</td>\n",
              "      <td>33</td>\n",
              "      <td>Valladolid</td>\n",
              "      <td>40</td>\n",
              "      <td>10</td>\n",
              "      <td>30</td>\n",
              "      <td>2024-01-31</td>\n",
              "      <td>2024</td>\n",
              "      <td>2024-02-15</td>\n",
              "      <td>31/01/24</td>\n",
              "      <td>33</td>\n",
              "      <td>high</td>\n",
              "      <td>high</td>\n",
              "      <td>high</td>\n",
              "    </tr>\n",
              "    <tr>\n",
              "      <th>1</th>\n",
              "      <td>Luis</td>\n",
              "      <td>25</td>\n",
              "      <td>Madrid</td>\n",
              "      <td>30</td>\n",
              "      <td>8</td>\n",
              "      <td>22</td>\n",
              "      <td>2024-01-31</td>\n",
              "      <td>2024</td>\n",
              "      <td>2024-02-15</td>\n",
              "      <td>31/01/24</td>\n",
              "      <td>25</td>\n",
              "      <td>low</td>\n",
              "      <td>low</td>\n",
              "      <td>low</td>\n",
              "    </tr>\n",
              "    <tr>\n",
              "      <th>2</th>\n",
              "      <td>Pilar</td>\n",
              "      <td>44</td>\n",
              "      <td>Zaragoza</td>\n",
              "      <td>35</td>\n",
              "      <td>11</td>\n",
              "      <td>24</td>\n",
              "      <td>2024-01-31</td>\n",
              "      <td>2024</td>\n",
              "      <td>2024-02-15</td>\n",
              "      <td>31/01/24</td>\n",
              "      <td>44</td>\n",
              "      <td>low</td>\n",
              "      <td>low</td>\n",
              "      <td>low</td>\n",
              "    </tr>\n",
              "    <tr>\n",
              "      <th>3</th>\n",
              "      <td>Ana</td>\n",
              "      <td>37</td>\n",
              "      <td>Cuenca</td>\n",
              "      <td>28</td>\n",
              "      <td>9</td>\n",
              "      <td>19</td>\n",
              "      <td>2024-01-31</td>\n",
              "      <td>2024</td>\n",
              "      <td>2024-02-15</td>\n",
              "      <td>31/01/24</td>\n",
              "      <td>37</td>\n",
              "      <td>low</td>\n",
              "      <td>low</td>\n",
              "      <td>low</td>\n",
              "    </tr>\n",
              "  </tbody>\n",
              "</table>\n",
              "</div>"
            ],
            "text/plain": [
              "    name  age        city  revenue  costs  margin         dt  year       dt_d  \\\n",
              "0  Jorge   33  Valladolid       40     10      30 2024-01-31  2024 2024-02-15   \n",
              "1   Luis   25      Madrid       30      8      22 2024-01-31  2024 2024-02-15   \n",
              "2  Pilar   44    Zaragoza       35     11      24 2024-01-31  2024 2024-02-15   \n",
              "3    Ana   37      Cuenca       28      9      19 2024-01-31  2024 2024-02-15   \n",
              "\n",
              "        dt2 age_s rango_margin rango_margin3 rango_margin4  \n",
              "0  31/01/24    33         high          high          high  \n",
              "1  31/01/24    25          low           low           low  \n",
              "2  31/01/24    44          low           low           low  \n",
              "3  31/01/24    37          low           low           low  "
            ]
          },
          "execution_count": 45,
          "metadata": {},
          "output_type": "execute_result"
        }
      ],
      "source": [
        "df_cus['rango_margin4']=df_cus['margin'].map(f)\n",
        "df_cus"
      ]
    },
    {
      "cell_type": "code",
      "execution_count": null,
      "metadata": {
        "id": "UpQLrJYRI5s8",
        "outputId": "e51543d2-41c3-4f2d-934a-e9f291c3f72e"
      },
      "outputs": [
        {
          "data": {
            "text/html": [
              "<div>\n",
              "<style scoped>\n",
              "    .dataframe tbody tr th:only-of-type {\n",
              "        vertical-align: middle;\n",
              "    }\n",
              "\n",
              "    .dataframe tbody tr th {\n",
              "        vertical-align: top;\n",
              "    }\n",
              "\n",
              "    .dataframe thead th {\n",
              "        text-align: right;\n",
              "    }\n",
              "</style>\n",
              "<table border=\"1\" class=\"dataframe\">\n",
              "  <thead>\n",
              "    <tr style=\"text-align: right;\">\n",
              "      <th></th>\n",
              "      <th>name</th>\n",
              "      <th>age</th>\n",
              "      <th>city</th>\n",
              "      <th>revenue</th>\n",
              "      <th>costs</th>\n",
              "      <th>margin</th>\n",
              "      <th>dt</th>\n",
              "      <th>year</th>\n",
              "      <th>dt_d</th>\n",
              "      <th>dt2</th>\n",
              "      <th>age_s</th>\n",
              "      <th>rango_margin</th>\n",
              "      <th>rango_margin3</th>\n",
              "      <th>rango_margin4</th>\n",
              "    </tr>\n",
              "  </thead>\n",
              "  <tbody>\n",
              "    <tr>\n",
              "      <th>0</th>\n",
              "      <td>Jorge</td>\n",
              "      <td>33</td>\n",
              "      <td>Valladolid</td>\n",
              "      <td>40</td>\n",
              "      <td>10</td>\n",
              "      <td>30</td>\n",
              "      <td>2024-01-31</td>\n",
              "      <td>2024</td>\n",
              "      <td>2024-02-15</td>\n",
              "      <td>31/01/24</td>\n",
              "      <td>33</td>\n",
              "      <td>high</td>\n",
              "      <td>high</td>\n",
              "      <td>high</td>\n",
              "    </tr>\n",
              "    <tr>\n",
              "      <th>1</th>\n",
              "      <td>Luis</td>\n",
              "      <td>25</td>\n",
              "      <td>Madrid</td>\n",
              "      <td>30</td>\n",
              "      <td>8</td>\n",
              "      <td>22</td>\n",
              "      <td>2024-01-31</td>\n",
              "      <td>2024</td>\n",
              "      <td>2024-02-15</td>\n",
              "      <td>31/01/24</td>\n",
              "      <td>25</td>\n",
              "      <td>low</td>\n",
              "      <td>low</td>\n",
              "      <td>low</td>\n",
              "    </tr>\n",
              "    <tr>\n",
              "      <th>2</th>\n",
              "      <td>Pilar</td>\n",
              "      <td>44</td>\n",
              "      <td>Zaragoza</td>\n",
              "      <td>35</td>\n",
              "      <td>11</td>\n",
              "      <td>24</td>\n",
              "      <td>2024-01-31</td>\n",
              "      <td>2024</td>\n",
              "      <td>2024-02-15</td>\n",
              "      <td>31/01/24</td>\n",
              "      <td>44</td>\n",
              "      <td>low</td>\n",
              "      <td>low</td>\n",
              "      <td>low</td>\n",
              "    </tr>\n",
              "    <tr>\n",
              "      <th>3</th>\n",
              "      <td>Ana</td>\n",
              "      <td>37</td>\n",
              "      <td>Cuenca</td>\n",
              "      <td>28</td>\n",
              "      <td>9</td>\n",
              "      <td>19</td>\n",
              "      <td>2024-01-31</td>\n",
              "      <td>2024</td>\n",
              "      <td>2024-02-15</td>\n",
              "      <td>31/01/24</td>\n",
              "      <td>37</td>\n",
              "      <td>low</td>\n",
              "      <td>low</td>\n",
              "      <td>low</td>\n",
              "    </tr>\n",
              "  </tbody>\n",
              "</table>\n",
              "</div>"
            ],
            "text/plain": [
              "    name  age        city  revenue  costs  margin         dt  year       dt_d  \\\n",
              "0  Jorge   33  Valladolid       40     10      30 2024-01-31  2024 2024-02-15   \n",
              "1   Luis   25      Madrid       30      8      22 2024-01-31  2024 2024-02-15   \n",
              "2  Pilar   44    Zaragoza       35     11      24 2024-01-31  2024 2024-02-15   \n",
              "3    Ana   37      Cuenca       28      9      19 2024-01-31  2024 2024-02-15   \n",
              "\n",
              "        dt2 age_s rango_margin rango_margin3 rango_margin4  \n",
              "0  31/01/24    33         high          high          high  \n",
              "1  31/01/24    25          low           low           low  \n",
              "2  31/01/24    44          low           low           low  \n",
              "3  31/01/24    37          low           low           low  "
            ]
          },
          "execution_count": 46,
          "metadata": {},
          "output_type": "execute_result"
        }
      ],
      "source": [
        "df_cus"
      ]
    },
    {
      "cell_type": "markdown",
      "metadata": {
        "id": "7LhFetkTI5s9"
      },
      "source": [
        "Apply method with multiple columns"
      ]
    },
    {
      "cell_type": "code",
      "execution_count": null,
      "metadata": {
        "id": "ni4PYO3wI5s9"
      },
      "outputs": [],
      "source": [
        "def calc_margin(rev, cos):\n",
        "    return rev-cos"
      ]
    },
    {
      "cell_type": "code",
      "execution_count": null,
      "metadata": {
        "id": "E6Gxrqp0I5s9",
        "outputId": "3906d502-1fc4-466e-fd82-2f105024b3bf"
      },
      "outputs": [
        {
          "data": {
            "text/html": [
              "<div>\n",
              "<style scoped>\n",
              "    .dataframe tbody tr th:only-of-type {\n",
              "        vertical-align: middle;\n",
              "    }\n",
              "\n",
              "    .dataframe tbody tr th {\n",
              "        vertical-align: top;\n",
              "    }\n",
              "\n",
              "    .dataframe thead th {\n",
              "        text-align: right;\n",
              "    }\n",
              "</style>\n",
              "<table border=\"1\" class=\"dataframe\">\n",
              "  <thead>\n",
              "    <tr style=\"text-align: right;\">\n",
              "      <th></th>\n",
              "      <th>name</th>\n",
              "      <th>age</th>\n",
              "      <th>city</th>\n",
              "      <th>revenue</th>\n",
              "      <th>costs</th>\n",
              "      <th>margin</th>\n",
              "      <th>dt</th>\n",
              "      <th>year</th>\n",
              "      <th>dt_d</th>\n",
              "      <th>dt2</th>\n",
              "      <th>age_s</th>\n",
              "      <th>rango_margin</th>\n",
              "      <th>rango_margin3</th>\n",
              "      <th>rango_margin4</th>\n",
              "      <th>margin2</th>\n",
              "    </tr>\n",
              "  </thead>\n",
              "  <tbody>\n",
              "    <tr>\n",
              "      <th>0</th>\n",
              "      <td>Jorge</td>\n",
              "      <td>33</td>\n",
              "      <td>Valladolid</td>\n",
              "      <td>40</td>\n",
              "      <td>10</td>\n",
              "      <td>30</td>\n",
              "      <td>2024-01-31</td>\n",
              "      <td>2024</td>\n",
              "      <td>2024-02-15</td>\n",
              "      <td>31/01/24</td>\n",
              "      <td>33</td>\n",
              "      <td>high</td>\n",
              "      <td>high</td>\n",
              "      <td>high</td>\n",
              "      <td>30</td>\n",
              "    </tr>\n",
              "    <tr>\n",
              "      <th>1</th>\n",
              "      <td>Luis</td>\n",
              "      <td>25</td>\n",
              "      <td>Madrid</td>\n",
              "      <td>30</td>\n",
              "      <td>8</td>\n",
              "      <td>22</td>\n",
              "      <td>2024-01-31</td>\n",
              "      <td>2024</td>\n",
              "      <td>2024-02-15</td>\n",
              "      <td>31/01/24</td>\n",
              "      <td>25</td>\n",
              "      <td>low</td>\n",
              "      <td>low</td>\n",
              "      <td>low</td>\n",
              "      <td>22</td>\n",
              "    </tr>\n",
              "    <tr>\n",
              "      <th>2</th>\n",
              "      <td>Pilar</td>\n",
              "      <td>44</td>\n",
              "      <td>Zaragoza</td>\n",
              "      <td>35</td>\n",
              "      <td>11</td>\n",
              "      <td>24</td>\n",
              "      <td>2024-01-31</td>\n",
              "      <td>2024</td>\n",
              "      <td>2024-02-15</td>\n",
              "      <td>31/01/24</td>\n",
              "      <td>44</td>\n",
              "      <td>low</td>\n",
              "      <td>low</td>\n",
              "      <td>low</td>\n",
              "      <td>24</td>\n",
              "    </tr>\n",
              "    <tr>\n",
              "      <th>3</th>\n",
              "      <td>Ana</td>\n",
              "      <td>37</td>\n",
              "      <td>Cuenca</td>\n",
              "      <td>28</td>\n",
              "      <td>9</td>\n",
              "      <td>19</td>\n",
              "      <td>2024-01-31</td>\n",
              "      <td>2024</td>\n",
              "      <td>2024-02-15</td>\n",
              "      <td>31/01/24</td>\n",
              "      <td>37</td>\n",
              "      <td>low</td>\n",
              "      <td>low</td>\n",
              "      <td>low</td>\n",
              "      <td>19</td>\n",
              "    </tr>\n",
              "  </tbody>\n",
              "</table>\n",
              "</div>"
            ],
            "text/plain": [
              "    name  age        city  revenue  costs  margin         dt  year       dt_d  \\\n",
              "0  Jorge   33  Valladolid       40     10      30 2024-01-31  2024 2024-02-15   \n",
              "1   Luis   25      Madrid       30      8      22 2024-01-31  2024 2024-02-15   \n",
              "2  Pilar   44    Zaragoza       35     11      24 2024-01-31  2024 2024-02-15   \n",
              "3    Ana   37      Cuenca       28      9      19 2024-01-31  2024 2024-02-15   \n",
              "\n",
              "        dt2 age_s rango_margin rango_margin3 rango_margin4  margin2  \n",
              "0  31/01/24    33         high          high          high       30  \n",
              "1  31/01/24    25          low           low           low       22  \n",
              "2  31/01/24    44          low           low           low       24  \n",
              "3  31/01/24    37          low           low           low       19  "
            ]
          },
          "execution_count": 48,
          "metadata": {},
          "output_type": "execute_result"
        }
      ],
      "source": [
        "df_cus['margin2'] = df_cus.apply(lambda x: calc_margin(x['revenue'], x['costs']) , axis=1)\n",
        "df_cus"
      ]
    },
    {
      "cell_type": "markdown",
      "metadata": {
        "id": "3kqL-0iEI5s9"
      },
      "source": [
        "Fields calculated with assign method"
      ]
    },
    {
      "cell_type": "code",
      "execution_count": null,
      "metadata": {
        "scrolled": true,
        "id": "W0lo2Dg8I5s9",
        "outputId": "c167a6da-b623-4e79-a3ea-934f0453b497"
      },
      "outputs": [
        {
          "data": {
            "text/html": [
              "<div>\n",
              "<style scoped>\n",
              "    .dataframe tbody tr th:only-of-type {\n",
              "        vertical-align: middle;\n",
              "    }\n",
              "\n",
              "    .dataframe tbody tr th {\n",
              "        vertical-align: top;\n",
              "    }\n",
              "\n",
              "    .dataframe thead th {\n",
              "        text-align: right;\n",
              "    }\n",
              "</style>\n",
              "<table border=\"1\" class=\"dataframe\">\n",
              "  <thead>\n",
              "    <tr style=\"text-align: right;\">\n",
              "      <th></th>\n",
              "      <th>name</th>\n",
              "      <th>age</th>\n",
              "      <th>city</th>\n",
              "      <th>revenue</th>\n",
              "      <th>costs</th>\n",
              "      <th>margin</th>\n",
              "      <th>dt</th>\n",
              "      <th>year</th>\n",
              "      <th>dt_d</th>\n",
              "      <th>dt2</th>\n",
              "      <th>age_s</th>\n",
              "      <th>rango_margin</th>\n",
              "      <th>rango_margin3</th>\n",
              "      <th>rango_margin4</th>\n",
              "      <th>margin2</th>\n",
              "      <th>months_age</th>\n",
              "    </tr>\n",
              "  </thead>\n",
              "  <tbody>\n",
              "    <tr>\n",
              "      <th>0</th>\n",
              "      <td>Jorge</td>\n",
              "      <td>33</td>\n",
              "      <td>Valladolid</td>\n",
              "      <td>40</td>\n",
              "      <td>10</td>\n",
              "      <td>30</td>\n",
              "      <td>2024-01-31</td>\n",
              "      <td>2024</td>\n",
              "      <td>2024-02-15</td>\n",
              "      <td>31/01/24</td>\n",
              "      <td>33</td>\n",
              "      <td>high</td>\n",
              "      <td>high</td>\n",
              "      <td>high</td>\n",
              "      <td>30</td>\n",
              "      <td>396</td>\n",
              "    </tr>\n",
              "    <tr>\n",
              "      <th>1</th>\n",
              "      <td>Luis</td>\n",
              "      <td>25</td>\n",
              "      <td>Madrid</td>\n",
              "      <td>30</td>\n",
              "      <td>8</td>\n",
              "      <td>22</td>\n",
              "      <td>2024-01-31</td>\n",
              "      <td>2024</td>\n",
              "      <td>2024-02-15</td>\n",
              "      <td>31/01/24</td>\n",
              "      <td>25</td>\n",
              "      <td>low</td>\n",
              "      <td>low</td>\n",
              "      <td>low</td>\n",
              "      <td>22</td>\n",
              "      <td>300</td>\n",
              "    </tr>\n",
              "    <tr>\n",
              "      <th>2</th>\n",
              "      <td>Pilar</td>\n",
              "      <td>44</td>\n",
              "      <td>Zaragoza</td>\n",
              "      <td>35</td>\n",
              "      <td>11</td>\n",
              "      <td>24</td>\n",
              "      <td>2024-01-31</td>\n",
              "      <td>2024</td>\n",
              "      <td>2024-02-15</td>\n",
              "      <td>31/01/24</td>\n",
              "      <td>44</td>\n",
              "      <td>low</td>\n",
              "      <td>low</td>\n",
              "      <td>low</td>\n",
              "      <td>24</td>\n",
              "      <td>528</td>\n",
              "    </tr>\n",
              "    <tr>\n",
              "      <th>3</th>\n",
              "      <td>Ana</td>\n",
              "      <td>37</td>\n",
              "      <td>Cuenca</td>\n",
              "      <td>28</td>\n",
              "      <td>9</td>\n",
              "      <td>19</td>\n",
              "      <td>2024-01-31</td>\n",
              "      <td>2024</td>\n",
              "      <td>2024-02-15</td>\n",
              "      <td>31/01/24</td>\n",
              "      <td>37</td>\n",
              "      <td>low</td>\n",
              "      <td>low</td>\n",
              "      <td>low</td>\n",
              "      <td>19</td>\n",
              "      <td>444</td>\n",
              "    </tr>\n",
              "  </tbody>\n",
              "</table>\n",
              "</div>"
            ],
            "text/plain": [
              "    name  age        city  revenue  costs  margin         dt  year       dt_d  \\\n",
              "0  Jorge   33  Valladolid       40     10      30 2024-01-31  2024 2024-02-15   \n",
              "1   Luis   25      Madrid       30      8      22 2024-01-31  2024 2024-02-15   \n",
              "2  Pilar   44    Zaragoza       35     11      24 2024-01-31  2024 2024-02-15   \n",
              "3    Ana   37      Cuenca       28      9      19 2024-01-31  2024 2024-02-15   \n",
              "\n",
              "        dt2 age_s rango_margin rango_margin3 rango_margin4  margin2  \\\n",
              "0  31/01/24    33         high          high          high       30   \n",
              "1  31/01/24    25          low           low           low       22   \n",
              "2  31/01/24    44          low           low           low       24   \n",
              "3  31/01/24    37          low           low           low       19   \n",
              "\n",
              "   months_age  \n",
              "0         396  \n",
              "1         300  \n",
              "2         528  \n",
              "3         444  "
            ]
          },
          "execution_count": 49,
          "metadata": {},
          "output_type": "execute_result"
        }
      ],
      "source": [
        "df_cus = df_cus.assign(months_age=df_cus['age'] * 12)\n",
        "df_cus"
      ]
    },
    {
      "cell_type": "markdown",
      "metadata": {
        "id": "svWJJhpKI5s9"
      },
      "source": [
        "Vectorised vs. loop operations. Vectorised operations are much more optimal"
      ]
    },
    {
      "cell_type": "code",
      "execution_count": null,
      "metadata": {
        "id": "PSegu_vXI5s9"
      },
      "outputs": [],
      "source": [
        "df_sales_p = df_sales.copy()\n",
        "df_sales_p['price'] = 5"
      ]
    },
    {
      "cell_type": "code",
      "execution_count": null,
      "metadata": {
        "id": "7zPgn3cXI5s-",
        "outputId": "df2eebd3-3b27-4e13-9ac8-81eaf2f17f3c"
      },
      "outputs": [
        {
          "data": {
            "text/html": [
              "<div>\n",
              "<style scoped>\n",
              "    .dataframe tbody tr th:only-of-type {\n",
              "        vertical-align: middle;\n",
              "    }\n",
              "\n",
              "    .dataframe tbody tr th {\n",
              "        vertical-align: top;\n",
              "    }\n",
              "\n",
              "    .dataframe thead th {\n",
              "        text-align: right;\n",
              "    }\n",
              "</style>\n",
              "<table border=\"1\" class=\"dataframe\">\n",
              "  <thead>\n",
              "    <tr style=\"text-align: right;\">\n",
              "      <th></th>\n",
              "      <th>office</th>\n",
              "      <th>salesperson</th>\n",
              "      <th>product</th>\n",
              "      <th>units</th>\n",
              "      <th>price</th>\n",
              "    </tr>\n",
              "  </thead>\n",
              "  <tbody>\n",
              "    <tr>\n",
              "      <th>0</th>\n",
              "      <td>Madrid</td>\n",
              "      <td>m_sp1</td>\n",
              "      <td>P1</td>\n",
              "      <td>20</td>\n",
              "      <td>5</td>\n",
              "    </tr>\n",
              "    <tr>\n",
              "      <th>1</th>\n",
              "      <td>Madrid</td>\n",
              "      <td>m_sp1</td>\n",
              "      <td>P2</td>\n",
              "      <td>19</td>\n",
              "      <td>5</td>\n",
              "    </tr>\n",
              "    <tr>\n",
              "      <th>2</th>\n",
              "      <td>Madrid</td>\n",
              "      <td>m_sp1</td>\n",
              "      <td>P3</td>\n",
              "      <td>8</td>\n",
              "      <td>5</td>\n",
              "    </tr>\n",
              "    <tr>\n",
              "      <th>3</th>\n",
              "      <td>Madrid</td>\n",
              "      <td>m_sp1</td>\n",
              "      <td>P4</td>\n",
              "      <td>5</td>\n",
              "      <td>5</td>\n",
              "    </tr>\n",
              "    <tr>\n",
              "      <th>4</th>\n",
              "      <td>Madrid</td>\n",
              "      <td>m_sp1</td>\n",
              "      <td>P5</td>\n",
              "      <td>18</td>\n",
              "      <td>5</td>\n",
              "    </tr>\n",
              "    <tr>\n",
              "      <th>5</th>\n",
              "      <td>Madrid</td>\n",
              "      <td>m_sp4</td>\n",
              "      <td>P14</td>\n",
              "      <td>1</td>\n",
              "      <td>5</td>\n",
              "    </tr>\n",
              "    <tr>\n",
              "      <th>6</th>\n",
              "      <td>Madrid</td>\n",
              "      <td>m_sp4</td>\n",
              "      <td>P15</td>\n",
              "      <td>7</td>\n",
              "      <td>5</td>\n",
              "    </tr>\n",
              "    <tr>\n",
              "      <th>7</th>\n",
              "      <td>Valencia</td>\n",
              "      <td>v_sp1</td>\n",
              "      <td>P10</td>\n",
              "      <td>1</td>\n",
              "      <td>5</td>\n",
              "    </tr>\n",
              "    <tr>\n",
              "      <th>8</th>\n",
              "      <td>Valencia</td>\n",
              "      <td>v_sp1</td>\n",
              "      <td>P11</td>\n",
              "      <td>2</td>\n",
              "      <td>5</td>\n",
              "    </tr>\n",
              "    <tr>\n",
              "      <th>9</th>\n",
              "      <td>Valencia</td>\n",
              "      <td>v_sp1</td>\n",
              "      <td>P12</td>\n",
              "      <td>0</td>\n",
              "      <td>5</td>\n",
              "    </tr>\n",
              "  </tbody>\n",
              "</table>\n",
              "</div>"
            ],
            "text/plain": [
              "     office salesperson product  units  price\n",
              "0    Madrid       m_sp1      P1     20      5\n",
              "1    Madrid       m_sp1      P2     19      5\n",
              "2    Madrid       m_sp1      P3      8      5\n",
              "3    Madrid       m_sp1      P4      5      5\n",
              "4    Madrid       m_sp1      P5     18      5\n",
              "5    Madrid       m_sp4     P14      1      5\n",
              "6    Madrid       m_sp4     P15      7      5\n",
              "7  Valencia       v_sp1     P10      1      5\n",
              "8  Valencia       v_sp1     P11      2      5\n",
              "9  Valencia       v_sp1     P12      0      5"
            ]
          },
          "execution_count": 52,
          "metadata": {},
          "output_type": "execute_result"
        }
      ],
      "source": [
        "df_sales_p.head(10)"
      ]
    },
    {
      "cell_type": "markdown",
      "metadata": {
        "id": "_fipgWLhI5s-"
      },
      "source": [
        "Loop operation"
      ]
    },
    {
      "cell_type": "code",
      "execution_count": null,
      "metadata": {
        "id": "f1B9Rqm1I5s-"
      },
      "outputs": [],
      "source": [
        "#Accedemos por posición\n",
        "df_sales_p.at[0, 'units']"
      ]
    },
    {
      "cell_type": "code",
      "execution_count": null,
      "metadata": {
        "id": "bOt65ZU9I5s-",
        "outputId": "f1ac6236-fb2d-4eb2-aefa-72c64e55eb94"
      },
      "outputs": [
        {
          "name": "stdout",
          "output_type": "stream",
          "text": [
            "2.85 ms ± 163 µs per loop (mean ± std. dev. of 7 runs, 100 loops each)\n"
          ]
        }
      ],
      "source": [
        "%%timeit\n",
        "for i, row in df_sales_p.iterrows():\n",
        "    df_sales_p.at[i,'sales'] = row['units']*row['price']"
      ]
    },
    {
      "cell_type": "markdown",
      "metadata": {
        "id": "6LuArKdPI5s-"
      },
      "source": [
        "Operation __vectorised__"
      ]
    },
    {
      "cell_type": "code",
      "execution_count": null,
      "metadata": {
        "id": "bUJjPe3EI5s-",
        "outputId": "bc7d86f3-a9c8-46ac-9339-1c905d7d7005"
      },
      "outputs": [
        {
          "name": "stdout",
          "output_type": "stream",
          "text": [
            "199 µs ± 12.8 µs per loop (mean ± std. dev. of 7 runs, 10,000 loops each)\n"
          ]
        }
      ],
      "source": [
        "%%timeit\n",
        "df_sales_p['sales'] = df_sales_p['units']*df_sales_p['price']"
      ]
    },
    {
      "cell_type": "code",
      "execution_count": null,
      "metadata": {
        "id": "9jsTjDW6I5s-",
        "outputId": "be569f21-96e8-47fd-a676-6724aca2078b"
      },
      "outputs": [
        {
          "data": {
            "text/html": [
              "<div>\n",
              "<style scoped>\n",
              "    .dataframe tbody tr th:only-of-type {\n",
              "        vertical-align: middle;\n",
              "    }\n",
              "\n",
              "    .dataframe tbody tr th {\n",
              "        vertical-align: top;\n",
              "    }\n",
              "\n",
              "    .dataframe thead th {\n",
              "        text-align: right;\n",
              "    }\n",
              "</style>\n",
              "<table border=\"1\" class=\"dataframe\">\n",
              "  <thead>\n",
              "    <tr style=\"text-align: right;\">\n",
              "      <th></th>\n",
              "      <th>office</th>\n",
              "      <th>salesperson</th>\n",
              "      <th>product</th>\n",
              "      <th>units</th>\n",
              "      <th>price</th>\n",
              "      <th>sales</th>\n",
              "    </tr>\n",
              "  </thead>\n",
              "  <tbody>\n",
              "    <tr>\n",
              "      <th>0</th>\n",
              "      <td>Madrid</td>\n",
              "      <td>m_sp1</td>\n",
              "      <td>P1</td>\n",
              "      <td>20</td>\n",
              "      <td>5</td>\n",
              "      <td>100</td>\n",
              "    </tr>\n",
              "    <tr>\n",
              "      <th>1</th>\n",
              "      <td>Madrid</td>\n",
              "      <td>m_sp1</td>\n",
              "      <td>P2</td>\n",
              "      <td>19</td>\n",
              "      <td>5</td>\n",
              "      <td>95</td>\n",
              "    </tr>\n",
              "    <tr>\n",
              "      <th>2</th>\n",
              "      <td>Madrid</td>\n",
              "      <td>m_sp1</td>\n",
              "      <td>P3</td>\n",
              "      <td>8</td>\n",
              "      <td>5</td>\n",
              "      <td>40</td>\n",
              "    </tr>\n",
              "    <tr>\n",
              "      <th>3</th>\n",
              "      <td>Madrid</td>\n",
              "      <td>m_sp1</td>\n",
              "      <td>P4</td>\n",
              "      <td>5</td>\n",
              "      <td>5</td>\n",
              "      <td>25</td>\n",
              "    </tr>\n",
              "    <tr>\n",
              "      <th>4</th>\n",
              "      <td>Madrid</td>\n",
              "      <td>m_sp1</td>\n",
              "      <td>P5</td>\n",
              "      <td>18</td>\n",
              "      <td>5</td>\n",
              "      <td>90</td>\n",
              "    </tr>\n",
              "  </tbody>\n",
              "</table>\n",
              "</div>"
            ],
            "text/plain": [
              "   office salesperson product  units  price  sales\n",
              "0  Madrid       m_sp1      P1     20      5    100\n",
              "1  Madrid       m_sp1      P2     19      5     95\n",
              "2  Madrid       m_sp1      P3      8      5     40\n",
              "3  Madrid       m_sp1      P4      5      5     25\n",
              "4  Madrid       m_sp1      P5     18      5     90"
            ]
          },
          "execution_count": 56,
          "metadata": {},
          "output_type": "execute_result"
        }
      ],
      "source": [
        "df_sales_p.head()"
      ]
    },
    {
      "cell_type": "markdown",
      "metadata": {
        "id": "Js5s22JuI5s_"
      },
      "source": [
        "Access all columns of a dataframe"
      ]
    },
    {
      "cell_type": "code",
      "execution_count": null,
      "metadata": {
        "id": "tS3urONkI5s_",
        "outputId": "dbd674a9-a89d-40cf-f51f-128f50c47e6b"
      },
      "outputs": [
        {
          "name": "stdout",
          "output_type": "stream",
          "text": [
            "<class 'pandas.core.indexes.base.Index'>\n",
            "name\n",
            "age\n",
            "city\n",
            "revenue\n",
            "costs\n",
            "margin\n",
            "dt\n",
            "year\n",
            "dt_d\n",
            "dt2\n",
            "age_s\n",
            "rango_margin\n",
            "rango_margin3\n",
            "rango_margin4\n",
            "margin2\n",
            "months_age\n"
          ]
        }
      ],
      "source": [
        "# loop\n",
        "print(type(df_cus.columns))\n",
        "for col in df_cus.columns:\n",
        "    print(col)"
      ]
    },
    {
      "cell_type": "code",
      "execution_count": null,
      "metadata": {
        "id": "YmkFmSUoI5s_",
        "outputId": "cd8326ff-80e9-4a19-85ae-7fb46e2c0785"
      },
      "outputs": [
        {
          "data": {
            "text/plain": [
              "Index(['name', 'age', 'city', 'revenue', 'costs', 'margin', 'dt', 'year',\n",
              "       'dt_d', 'dt2', 'age_s', 'rango_margin', 'rango_margin3',\n",
              "       'rango_margin4', 'margin2', 'months_age'],\n",
              "      dtype='object')"
            ]
          },
          "execution_count": 57,
          "metadata": {},
          "output_type": "execute_result"
        }
      ],
      "source": [
        "df_cus.columns"
      ]
    }
  ],
  "metadata": {
    "kernelspec": {
      "display_name": "Python 3 (ipykernel)",
      "language": "python",
      "name": "python3"
    },
    "language_info": {
      "codemirror_mode": {
        "name": "ipython",
        "version": 3
      },
      "file_extension": ".py",
      "mimetype": "text/x-python",
      "name": "python",
      "nbconvert_exporter": "python",
      "pygments_lexer": "ipython3",
      "version": "3.10.9"
    },
    "colab": {
      "provenance": [],
      "include_colab_link": true
    }
  },
  "nbformat": 4,
  "nbformat_minor": 0
}